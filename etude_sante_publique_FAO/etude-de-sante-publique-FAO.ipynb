{
 "cells": [
  {
   "cell_type": "code",
   "execution_count": 1,
   "metadata": {},
   "outputs": [],
   "source": [
    "# Importation librairies\n",
    "import numpy as np\n",
    "import pandas as pd\n",
    "import matplotlib.pyplot as plt"
   ]
  },
  {
   "attachments": {},
   "cell_type": "markdown",
   "metadata": {},
   "source": [
    "<img src='./images/logo-FAO-sans-fond.png' width=400px />\n",
    "\n",
    "# Etude de la santé publique avec Python"
   ]
  },
  {
   "attachments": {},
   "cell_type": "markdown",
   "metadata": {},
   "source": [
    "Dans ce projet, nous éffectuerons une analyse de donnée provenant de  *Food and Agriculture Organization of the United Nations (FAO)* qui est une agence spécialisée de l'ONU menant des efforts internationaux vers l'élimination de la faim. L'objectif est de réaliser une étude sur le thème de la sous-nutrition."
   ]
  },
  {
   "attachments": {},
   "cell_type": "markdown",
   "metadata": {},
   "source": [
    "<a id=\"0\"></a> \n",
    "## Plan\n"
   ]
  },
  {
   "attachments": {},
   "cell_type": "markdown",
   "metadata": {},
   "source": [
    "* [Mise en place des *DataFrame*](#1)\n",
    "    * [*DataFrame* de l'aide alimentaire](#2)\n",
    "    * [*DataFrame* de la disponibilité alimentaire](#3)\n",
    "    * [*DataFrame* de la population](#4)\n",
    "    * [*DataFrame* de la sous-nutrition](#5)\n",
    "* [Recherches de Julien](#6)\n",
    "    * [Lien logique entre les variables de la disponibilité alimentaire](#7)\n",
    "    * [Utilisation des céréales](#8)\n",
    "    * [Analyse de l'exportation par rapport à la production](#9)\n",
    "* [Informations demandées par Marc](#10)\n",
    "    * [Proportion de personnes en état de sous-nutrition](#11)\n",
    "    * [Nombre théorique de personnes qui pourraient être nourries](#12)\n",
    "    * [Nombre théorique de personnes qui pourraient être nourries avec les produits végétaux](#13)\n",
    "    * [Nombre théorique de personnes qui pourraient être nourries avec les produits animals](#14)\n",
    "    * [Utilisation de la disponibilité intérieure](#15)\n",
    "* [Demandes de Mélanie](#16)\n",
    "    * [Pays avec la plus forte proportion de personnes sous-alimentées](#17)\n",
    "    * [Pays ayant le plus bénéficié d'aides depuis 2013](#18)\n",
    "    * [Pays avec le plus et le moins de disponibilité par habitant](#19)\n",
    "* [Conclusion](#20)"
   ]
  },
  {
   "attachments": {},
   "cell_type": "markdown",
   "metadata": {},
   "source": [
    "<a id=\"1\"></a> \n",
    "## Mise en place des *DataFrame*"
   ]
  },
  {
   "attachments": {},
   "cell_type": "markdown",
   "metadata": {},
   "source": [
    "Dans cette première partie, nous allons importer, préparer et vérifier les données qui vont composer les *DataFrame* que nous allons utiliser dans le cadre de cette Analyse.<br>\n",
    "Quatre fichiers csv ayant été générés grâce à la base de données [FAOSTAT](https://www.fao.org/faostat/fr/#home) sont à notre disposition.<br>\n",
    "\n",
    "Pour chaque fichier, nous allons:\n",
    "* importer les données grâce à la librairie Pandas et à sa méthode `read_csv`;\n",
    "* vérifier l'importation et afficher les premières informations;\n",
    "* nettoyer les *DataFrame* (suppression de colonnes inutiles, harmonisation des noms de colonne poour faciliter les futures manipulations, etc.. );\n",
    "* afficher les premières informations sur les données.\n",
    "\n",
    "**Note:**<br>\n",
    "L'étude concerne en grande partie l'année 2017, Nous avons donc d'abord **générer un nouveau fichier csv depuis FAOSTAT et non pas utiliser celui fourni à l'origine**.<br>"
   ]
  },
  {
   "attachments": {},
   "cell_type": "markdown",
   "metadata": {},
   "source": [
    "<a id=\"2\"></a> \n",
    "### *DataFrame* de l'aide alimentaire"
   ]
  },
  {
   "cell_type": "code",
   "execution_count": 2,
   "metadata": {},
   "outputs": [
    {
     "data": {
      "text/html": [
       "<div>\n",
       "<style scoped>\n",
       "    .dataframe tbody tr th:only-of-type {\n",
       "        vertical-align: middle;\n",
       "    }\n",
       "\n",
       "    .dataframe tbody tr th {\n",
       "        vertical-align: top;\n",
       "    }\n",
       "\n",
       "    .dataframe thead th {\n",
       "        text-align: right;\n",
       "    }\n",
       "</style>\n",
       "<table border=\"1\" class=\"dataframe\">\n",
       "  <thead>\n",
       "    <tr style=\"text-align: right;\">\n",
       "      <th></th>\n",
       "      <th>Pays bénéficiaire</th>\n",
       "      <th>Année</th>\n",
       "      <th>Produit</th>\n",
       "      <th>Valeur</th>\n",
       "    </tr>\n",
       "  </thead>\n",
       "  <tbody>\n",
       "    <tr>\n",
       "      <th>0</th>\n",
       "      <td>Afghanistan</td>\n",
       "      <td>2013</td>\n",
       "      <td>Autres non-céréales</td>\n",
       "      <td>682</td>\n",
       "    </tr>\n",
       "    <tr>\n",
       "      <th>1</th>\n",
       "      <td>Afghanistan</td>\n",
       "      <td>2014</td>\n",
       "      <td>Autres non-céréales</td>\n",
       "      <td>335</td>\n",
       "    </tr>\n",
       "    <tr>\n",
       "      <th>2</th>\n",
       "      <td>Afghanistan</td>\n",
       "      <td>2013</td>\n",
       "      <td>Blé et Farin</td>\n",
       "      <td>39224</td>\n",
       "    </tr>\n",
       "  </tbody>\n",
       "</table>\n",
       "</div>"
      ],
      "text/plain": [
       "  Pays bénéficiaire  Année              Produit  Valeur\n",
       "0       Afghanistan   2013  Autres non-céréales     682\n",
       "1       Afghanistan   2014  Autres non-céréales     335\n",
       "2       Afghanistan   2013         Blé et Farin   39224"
      ]
     },
     "execution_count": 2,
     "metadata": {},
     "output_type": "execute_result"
    }
   ],
   "source": [
    "# Importation 'aide_alimentaire.csv'\n",
    "aide = pd.read_csv('./datasets/aide-alimentaire.csv', sep = ',')\n",
    "\n",
    "aide.head(3)"
   ]
  },
  {
   "cell_type": "code",
   "execution_count": 3,
   "metadata": {},
   "outputs": [
    {
     "data": {
      "text/plain": [
       "(1475, 4)"
      ]
     },
     "execution_count": 3,
     "metadata": {},
     "output_type": "execute_result"
    }
   ],
   "source": [
    "# Affichage dimensions DataFrame\n",
    "aide.shape"
   ]
  },
  {
   "cell_type": "code",
   "execution_count": 4,
   "metadata": {},
   "outputs": [
    {
     "data": {
      "text/plain": [
       "Pays bénéficiaire    object\n",
       "Année                 int64\n",
       "Produit              object\n",
       "Valeur                int64\n",
       "dtype: object"
      ]
     },
     "execution_count": 4,
     "metadata": {},
     "output_type": "execute_result"
    }
   ],
   "source": [
    "# Affichage type données\n",
    "aide.dtypes"
   ]
  },
  {
   "attachments": {},
   "cell_type": "markdown",
   "metadata": {},
   "source": [
    "Commentaires:\n",
    "* les données sont correctement importées et correspondent à celles du fichier d'origine;\n",
    "* la taille du jeu de données est de 1475 lignes et 4 colonnes;\n",
    "* les accents et majuscules vont être supprimés des noms de colonnes et « Pays Bénéficiaire » va être renommée pour correspondre aux autres *DataFrame*;\n",
    "* étant une donnée qualitive, l'année sera convertie en objet."
   ]
  },
  {
   "cell_type": "code",
   "execution_count": 6,
   "metadata": {},
   "outputs": [
    {
     "data": {
      "text/html": [
       "<div>\n",
       "<style scoped>\n",
       "    .dataframe tbody tr th:only-of-type {\n",
       "        vertical-align: middle;\n",
       "    }\n",
       "\n",
       "    .dataframe tbody tr th {\n",
       "        vertical-align: top;\n",
       "    }\n",
       "\n",
       "    .dataframe thead th {\n",
       "        text-align: right;\n",
       "    }\n",
       "</style>\n",
       "<table border=\"1\" class=\"dataframe\">\n",
       "  <thead>\n",
       "    <tr style=\"text-align: right;\">\n",
       "      <th></th>\n",
       "      <th>zone</th>\n",
       "      <th>annee</th>\n",
       "      <th>produit</th>\n",
       "      <th>valeur</th>\n",
       "    </tr>\n",
       "  </thead>\n",
       "  <tbody>\n",
       "    <tr>\n",
       "      <th>0</th>\n",
       "      <td>Afghanistan</td>\n",
       "      <td>2013</td>\n",
       "      <td>Autres non-céréales</td>\n",
       "      <td>682</td>\n",
       "    </tr>\n",
       "    <tr>\n",
       "      <th>1</th>\n",
       "      <td>Afghanistan</td>\n",
       "      <td>2014</td>\n",
       "      <td>Autres non-céréales</td>\n",
       "      <td>335</td>\n",
       "    </tr>\n",
       "    <tr>\n",
       "      <th>2</th>\n",
       "      <td>Afghanistan</td>\n",
       "      <td>2013</td>\n",
       "      <td>Blé et Farin</td>\n",
       "      <td>39224</td>\n",
       "    </tr>\n",
       "  </tbody>\n",
       "</table>\n",
       "</div>"
      ],
      "text/plain": [
       "          zone annee              produit  valeur\n",
       "0  Afghanistan  2013  Autres non-céréales     682\n",
       "1  Afghanistan  2014  Autres non-céréales     335\n",
       "2  Afghanistan  2013         Blé et Farin   39224"
      ]
     },
     "execution_count": 6,
     "metadata": {},
     "output_type": "execute_result"
    }
   ],
   "source": [
    "# Renommage et formatage noms colonnes\n",
    "aide = (aide\n",
    "    .rename(columns = {'Pays bénéficiaire':'zone', 'Année':'annee'})\n",
    "    .rename(str.lower, axis = 'columns')\n",
    ")\n",
    "\n",
    "#Conversion type\n",
    "aide['annee'] = aide['annee'].astype(object)\n",
    "\n",
    "aide.head(3)"
   ]
  },
  {
   "cell_type": "code",
   "execution_count": 7,
   "metadata": {},
   "outputs": [
    {
     "data": {
      "text/plain": [
       "zone       False\n",
       "annee      False\n",
       "produit    False\n",
       "valeur     False\n",
       "dtype: bool"
      ]
     },
     "execution_count": 7,
     "metadata": {},
     "output_type": "execute_result"
    }
   ],
   "source": [
    "# Vérification présence valeurs NA\n",
    "aide.isna().any()"
   ]
  },
  {
   "cell_type": "code",
   "execution_count": 9,
   "metadata": {},
   "outputs": [
    {
     "name": "stdout",
     "output_type": "stream",
     "text": [
      "L'année la plus ancienne dans le dataset est : 2013\n",
      "L'année la plus récente dans le dataset est : 2016\n"
     ]
    }
   ],
   "source": [
    "annee_min = aide['annee'].min()\n",
    "annee_max = aide['annee'].max()\n",
    "\n",
    "print(f\"L'année la plus ancienne dans le dataset est : {annee_min}\")\n",
    "print(f\"L'année la plus récente dans le dataset est : {annee_max}\")"
   ]
  },
  {
   "attachments": {},
   "cell_type": "markdown",
   "metadata": {},
   "source": [
    "* Il n'y a pas de valeurs manquantes dans le jeu de données.\n",
    "* les données sur l'aide alimentaire varie entre entre 2013 et 2016"
   ]
  },
  {
   "attachments": {},
   "cell_type": "markdown",
   "metadata": {},
   "source": [
    "<a id=\"3\"></a> \n",
    "### *DataFrame* de la disponibilité alimentaire"
   ]
  },
  {
   "cell_type": "code",
   "execution_count": 10,
   "metadata": {},
   "outputs": [
    {
     "data": {
      "text/html": [
       "<div>\n",
       "<style scoped>\n",
       "    .dataframe tbody tr th:only-of-type {\n",
       "        vertical-align: middle;\n",
       "    }\n",
       "\n",
       "    .dataframe tbody tr th {\n",
       "        vertical-align: top;\n",
       "    }\n",
       "\n",
       "    .dataframe thead th {\n",
       "        text-align: right;\n",
       "    }\n",
       "</style>\n",
       "<table border=\"1\" class=\"dataframe\">\n",
       "  <thead>\n",
       "    <tr style=\"text-align: right;\">\n",
       "      <th></th>\n",
       "      <th>Domaine</th>\n",
       "      <th>Zone</th>\n",
       "      <th>Élément</th>\n",
       "      <th>Produit</th>\n",
       "      <th>Origine</th>\n",
       "      <th>Année</th>\n",
       "      <th>Valeur</th>\n",
       "    </tr>\n",
       "  </thead>\n",
       "  <tbody>\n",
       "    <tr>\n",
       "      <th>0</th>\n",
       "      <td>Bilans Alimentaires (2010-)</td>\n",
       "      <td>Afghanistan</td>\n",
       "      <td>Production</td>\n",
       "      <td>Blé et produits</td>\n",
       "      <td>vegetale</td>\n",
       "      <td>2017</td>\n",
       "      <td>4281.0</td>\n",
       "    </tr>\n",
       "    <tr>\n",
       "      <th>1</th>\n",
       "      <td>Bilans Alimentaires (2010-)</td>\n",
       "      <td>Afghanistan</td>\n",
       "      <td>Importations - Quantité</td>\n",
       "      <td>Blé et produits</td>\n",
       "      <td>vegetale</td>\n",
       "      <td>2017</td>\n",
       "      <td>3080.0</td>\n",
       "    </tr>\n",
       "    <tr>\n",
       "      <th>2</th>\n",
       "      <td>Bilans Alimentaires (2010-)</td>\n",
       "      <td>Afghanistan</td>\n",
       "      <td>Variation de stock</td>\n",
       "      <td>Blé et produits</td>\n",
       "      <td>vegetale</td>\n",
       "      <td>2017</td>\n",
       "      <td>208.0</td>\n",
       "    </tr>\n",
       "  </tbody>\n",
       "</table>\n",
       "</div>"
      ],
      "text/plain": [
       "                       Domaine         Zone                  Élément  \\\n",
       "0  Bilans Alimentaires (2010-)  Afghanistan               Production   \n",
       "1  Bilans Alimentaires (2010-)  Afghanistan  Importations - Quantité   \n",
       "2  Bilans Alimentaires (2010-)  Afghanistan       Variation de stock   \n",
       "\n",
       "           Produit   Origine  Année  Valeur  \n",
       "0  Blé et produits  vegetale   2017  4281.0  \n",
       "1  Blé et produits  vegetale   2017  3080.0  \n",
       "2  Blé et produits  vegetale   2017   208.0  "
      ]
     },
     "execution_count": 10,
     "metadata": {},
     "output_type": "execute_result"
    }
   ],
   "source": [
    "# Importation 'dispo_alimentaire_2017.csv'\n",
    "disponibilite = pd.read_csv('./datasets/dispo-alimentaire-2017.csv', sep = ';')\n",
    "\n",
    "disponibilite.head(3)"
   ]
  },
  {
   "cell_type": "code",
   "execution_count": 11,
   "metadata": {},
   "outputs": [
    {
     "data": {
      "text/plain": [
       "(283710, 7)"
      ]
     },
     "execution_count": 11,
     "metadata": {},
     "output_type": "execute_result"
    }
   ],
   "source": [
    "# Affichage dimensions DataFrame\n",
    "disponibilite.shape"
   ]
  },
  {
   "cell_type": "code",
   "execution_count": 12,
   "metadata": {},
   "outputs": [
    {
     "data": {
      "text/plain": [
       "Domaine     object\n",
       "Zone        object\n",
       "Élément     object\n",
       "Produit     object\n",
       "Origine     object\n",
       "Année        int64\n",
       "Valeur     float64\n",
       "dtype: object"
      ]
     },
     "execution_count": 12,
     "metadata": {},
     "output_type": "execute_result"
    }
   ],
   "source": [
    "# Affichage type données\n",
    "disponibilite.dtypes"
   ]
  },
  {
   "cell_type": "code",
   "execution_count": 13,
   "metadata": {},
   "outputs": [
    {
     "data": {
      "text/plain": [
       "Domaine    False\n",
       "Zone       False\n",
       "Élément    False\n",
       "Produit    False\n",
       "Origine    False\n",
       "Année      False\n",
       "Valeur      True\n",
       "dtype: bool"
      ]
     },
     "execution_count": 13,
     "metadata": {},
     "output_type": "execute_result"
    }
   ],
   "source": [
    "# Vérification présence valeurs NA\n",
    "disponibilite.isna().any()"
   ]
  },
  {
   "cell_type": "code",
   "execution_count": 14,
   "metadata": {},
   "outputs": [
    {
     "data": {
      "text/plain": [
       "0.4061576962391174"
      ]
     },
     "execution_count": 14,
     "metadata": {},
     "output_type": "execute_result"
    }
   ],
   "source": [
    "# Affichage taux valeurs NA de 'Valeur'\n",
    "disponibilite['Valeur'].isna().mean()"
   ]
  },
  {
   "attachments": {},
   "cell_type": "markdown",
   "metadata": {},
   "source": [
    "Commentaires:\n",
    "* les données sont correctement importées et correspondent à celles du fichier d'origine;\n",
    "* la taille du jeu de données est identique au fichier source;\n",
    "* les colonnes « Domaine » et « Année » sont inutiles et vont être supprimées;\n",
    "* la colonne « Élément » va être pivotée pour pouvoir faciliter la suite de l'étude;\n",
    "* les accents et majuscules des entêtes de colonnes vont également être supprimés."
   ]
  },
  {
   "cell_type": "code",
   "execution_count": 16,
   "metadata": {},
   "outputs": [
    {
     "data": {
      "text/html": [
       "<div>\n",
       "<style scoped>\n",
       "    .dataframe tbody tr th:only-of-type {\n",
       "        vertical-align: middle;\n",
       "    }\n",
       "\n",
       "    .dataframe tbody tr th {\n",
       "        vertical-align: top;\n",
       "    }\n",
       "\n",
       "    .dataframe thead th {\n",
       "        text-align: right;\n",
       "    }\n",
       "</style>\n",
       "<table border=\"1\" class=\"dataframe\">\n",
       "  <thead>\n",
       "    <tr style=\"text-align: right;\">\n",
       "      <th></th>\n",
       "      <th>zone</th>\n",
       "      <th>produit</th>\n",
       "      <th>origine</th>\n",
       "      <th>aliments pour animaux</th>\n",
       "      <th>autres utilisations (non alimentaire)</th>\n",
       "      <th>disponibilite alimentaire (kcal/personne/jour)</th>\n",
       "      <th>disponibilite alimentaire en quantite (kg/personne/an)</th>\n",
       "      <th>disponibilite de matiere grasse en quantite (g/personne/jour)</th>\n",
       "      <th>disponibilite de proteines en quantite (g/personne/jour)</th>\n",
       "      <th>disponibilite interieure</th>\n",
       "      <th>exportations - quantite</th>\n",
       "      <th>importations - quantite</th>\n",
       "      <th>nourriture</th>\n",
       "      <th>pertes</th>\n",
       "      <th>production</th>\n",
       "      <th>semences</th>\n",
       "      <th>traitement</th>\n",
       "      <th>variation de stock</th>\n",
       "    </tr>\n",
       "  </thead>\n",
       "  <tbody>\n",
       "    <tr>\n",
       "      <th>0</th>\n",
       "      <td>Afghanistan</td>\n",
       "      <td>Abats Comestible</td>\n",
       "      <td>animale</td>\n",
       "      <td>0.0</td>\n",
       "      <td>0.0</td>\n",
       "      <td>4.0</td>\n",
       "      <td>1.42</td>\n",
       "      <td>0.18</td>\n",
       "      <td>0.62</td>\n",
       "      <td>55.0</td>\n",
       "      <td>0.0</td>\n",
       "      <td>6.0</td>\n",
       "      <td>51.0</td>\n",
       "      <td>4.0</td>\n",
       "      <td>49.0</td>\n",
       "      <td>0.0</td>\n",
       "      <td>0.0</td>\n",
       "      <td>0.0</td>\n",
       "    </tr>\n",
       "    <tr>\n",
       "      <th>1</th>\n",
       "      <td>Afghanistan</td>\n",
       "      <td>Agrumes, Autres</td>\n",
       "      <td>vegetale</td>\n",
       "      <td>0.0</td>\n",
       "      <td>0.0</td>\n",
       "      <td>1.0</td>\n",
       "      <td>1.35</td>\n",
       "      <td>0.01</td>\n",
       "      <td>0.02</td>\n",
       "      <td>51.0</td>\n",
       "      <td>0.0</td>\n",
       "      <td>33.0</td>\n",
       "      <td>49.0</td>\n",
       "      <td>2.0</td>\n",
       "      <td>18.0</td>\n",
       "      <td>0.0</td>\n",
       "      <td>0.0</td>\n",
       "      <td>0.0</td>\n",
       "    </tr>\n",
       "    <tr>\n",
       "      <th>2</th>\n",
       "      <td>Afghanistan</td>\n",
       "      <td>Alcool, non Comestible</td>\n",
       "      <td>vegetale</td>\n",
       "      <td>0.0</td>\n",
       "      <td>0.0</td>\n",
       "      <td>0.0</td>\n",
       "      <td>0.00</td>\n",
       "      <td>0.00</td>\n",
       "      <td>0.00</td>\n",
       "      <td>0.0</td>\n",
       "      <td>0.0</td>\n",
       "      <td>0.0</td>\n",
       "      <td>0.0</td>\n",
       "      <td>0.0</td>\n",
       "      <td>0.0</td>\n",
       "      <td>0.0</td>\n",
       "      <td>0.0</td>\n",
       "      <td>0.0</td>\n",
       "    </tr>\n",
       "  </tbody>\n",
       "</table>\n",
       "</div>"
      ],
      "text/plain": [
       "          zone                 produit   origine  aliments pour animaux  \\\n",
       "0  Afghanistan        Abats Comestible   animale                    0.0   \n",
       "1  Afghanistan         Agrumes, Autres  vegetale                    0.0   \n",
       "2  Afghanistan  Alcool, non Comestible  vegetale                    0.0   \n",
       "\n",
       "   autres utilisations (non alimentaire)  \\\n",
       "0                                    0.0   \n",
       "1                                    0.0   \n",
       "2                                    0.0   \n",
       "\n",
       "   disponibilite alimentaire (kcal/personne/jour)  \\\n",
       "0                                             4.0   \n",
       "1                                             1.0   \n",
       "2                                             0.0   \n",
       "\n",
       "   disponibilite alimentaire en quantite (kg/personne/an)  \\\n",
       "0                                               1.42        \n",
       "1                                               1.35        \n",
       "2                                               0.00        \n",
       "\n",
       "   disponibilite de matiere grasse en quantite (g/personne/jour)  \\\n",
       "0                                               0.18               \n",
       "1                                               0.01               \n",
       "2                                               0.00               \n",
       "\n",
       "   disponibilite de proteines en quantite (g/personne/jour)  \\\n",
       "0                                               0.62          \n",
       "1                                               0.02          \n",
       "2                                               0.00          \n",
       "\n",
       "   disponibilite interieure  exportations - quantite  importations - quantite  \\\n",
       "0                      55.0                      0.0                      6.0   \n",
       "1                      51.0                      0.0                     33.0   \n",
       "2                       0.0                      0.0                      0.0   \n",
       "\n",
       "   nourriture  pertes  production  semences  traitement  variation de stock  \n",
       "0        51.0     4.0        49.0       0.0         0.0                 0.0  \n",
       "1        49.0     2.0        18.0       0.0         0.0                 0.0  \n",
       "2         0.0     0.0         0.0       0.0         0.0                 0.0  "
      ]
     },
     "execution_count": 16,
     "metadata": {},
     "output_type": "execute_result"
    }
   ],
   "source": [
    "# Mise en forme DataFrame avec pivotage colonne 'Élément'\n",
    "disponibilite = (disponibilite\n",
    "    .drop(['Domaine','Année'], axis = 1)\n",
    "    .pivot_table(index = ['Zone','Produit','Origine'], columns = 'Élément', values = 'Valeur', fill_value = 0)\n",
    "    .reset_index() # Transformation tableau pivoté en DataFrame\n",
    "    .rename_axis(None, axis = 1)\n",
    ")\n",
    "\n",
    "# Formatage noms colonnes\n",
    "disponibilite.columns = (disponibilite.columns\n",
    "    .str.lower()\n",
    "    .str.replace('[é,è]', 'e', regex = True)\n",
    ")\n",
    "\n",
    "disponibilite.head(3)"
   ]
  },
  {
   "attachments": {},
   "cell_type": "markdown",
   "metadata": {},
   "source": [
    "Les noms de colonnes ne sont pas facilement exploitables car ils sont trop long, nous allons les renommer."
   ]
  },
  {
   "cell_type": "code",
   "execution_count": 17,
   "metadata": {},
   "outputs": [
    {
     "data": {
      "text/html": [
       "<div>\n",
       "<style scoped>\n",
       "    .dataframe tbody tr th:only-of-type {\n",
       "        vertical-align: middle;\n",
       "    }\n",
       "\n",
       "    .dataframe tbody tr th {\n",
       "        vertical-align: top;\n",
       "    }\n",
       "\n",
       "    .dataframe thead th {\n",
       "        text-align: right;\n",
       "    }\n",
       "</style>\n",
       "<table border=\"1\" class=\"dataframe\">\n",
       "  <thead>\n",
       "    <tr style=\"text-align: right;\">\n",
       "      <th></th>\n",
       "      <th>zone</th>\n",
       "      <th>produit</th>\n",
       "      <th>origine</th>\n",
       "      <th>aliments_animaux</th>\n",
       "      <th>autres_utilisations</th>\n",
       "      <th>disponibilite_kcal_p_j</th>\n",
       "      <th>disponibilite_kg_p_an</th>\n",
       "      <th>disponibilite_MG_g_p_j</th>\n",
       "      <th>disponibilite_proteines_g_p_j</th>\n",
       "      <th>disponibilite_interieure</th>\n",
       "      <th>exportations</th>\n",
       "      <th>importations</th>\n",
       "      <th>nourriture</th>\n",
       "      <th>pertes</th>\n",
       "      <th>production</th>\n",
       "      <th>semences</th>\n",
       "      <th>traitement</th>\n",
       "      <th>variation_stock</th>\n",
       "    </tr>\n",
       "  </thead>\n",
       "  <tbody>\n",
       "    <tr>\n",
       "      <th>0</th>\n",
       "      <td>Afghanistan</td>\n",
       "      <td>Abats Comestible</td>\n",
       "      <td>animale</td>\n",
       "      <td>0.0</td>\n",
       "      <td>0.0</td>\n",
       "      <td>4.0</td>\n",
       "      <td>1.42</td>\n",
       "      <td>0.18</td>\n",
       "      <td>0.62</td>\n",
       "      <td>55.0</td>\n",
       "      <td>0.0</td>\n",
       "      <td>6.0</td>\n",
       "      <td>51.0</td>\n",
       "      <td>4.0</td>\n",
       "      <td>49.0</td>\n",
       "      <td>0.0</td>\n",
       "      <td>0.0</td>\n",
       "      <td>0.0</td>\n",
       "    </tr>\n",
       "    <tr>\n",
       "      <th>1</th>\n",
       "      <td>Afghanistan</td>\n",
       "      <td>Agrumes, Autres</td>\n",
       "      <td>vegetale</td>\n",
       "      <td>0.0</td>\n",
       "      <td>0.0</td>\n",
       "      <td>1.0</td>\n",
       "      <td>1.35</td>\n",
       "      <td>0.01</td>\n",
       "      <td>0.02</td>\n",
       "      <td>51.0</td>\n",
       "      <td>0.0</td>\n",
       "      <td>33.0</td>\n",
       "      <td>49.0</td>\n",
       "      <td>2.0</td>\n",
       "      <td>18.0</td>\n",
       "      <td>0.0</td>\n",
       "      <td>0.0</td>\n",
       "      <td>0.0</td>\n",
       "    </tr>\n",
       "    <tr>\n",
       "      <th>2</th>\n",
       "      <td>Afghanistan</td>\n",
       "      <td>Alcool, non Comestible</td>\n",
       "      <td>vegetale</td>\n",
       "      <td>0.0</td>\n",
       "      <td>0.0</td>\n",
       "      <td>0.0</td>\n",
       "      <td>0.00</td>\n",
       "      <td>0.00</td>\n",
       "      <td>0.00</td>\n",
       "      <td>0.0</td>\n",
       "      <td>0.0</td>\n",
       "      <td>0.0</td>\n",
       "      <td>0.0</td>\n",
       "      <td>0.0</td>\n",
       "      <td>0.0</td>\n",
       "      <td>0.0</td>\n",
       "      <td>0.0</td>\n",
       "      <td>0.0</td>\n",
       "    </tr>\n",
       "  </tbody>\n",
       "</table>\n",
       "</div>"
      ],
      "text/plain": [
       "          zone                 produit   origine  aliments_animaux  \\\n",
       "0  Afghanistan        Abats Comestible   animale               0.0   \n",
       "1  Afghanistan         Agrumes, Autres  vegetale               0.0   \n",
       "2  Afghanistan  Alcool, non Comestible  vegetale               0.0   \n",
       "\n",
       "   autres_utilisations  disponibilite_kcal_p_j  disponibilite_kg_p_an  \\\n",
       "0                  0.0                     4.0                   1.42   \n",
       "1                  0.0                     1.0                   1.35   \n",
       "2                  0.0                     0.0                   0.00   \n",
       "\n",
       "   disponibilite_MG_g_p_j  disponibilite_proteines_g_p_j  \\\n",
       "0                    0.18                           0.62   \n",
       "1                    0.01                           0.02   \n",
       "2                    0.00                           0.00   \n",
       "\n",
       "   disponibilite_interieure  exportations  importations  nourriture  pertes  \\\n",
       "0                      55.0           0.0           6.0        51.0     4.0   \n",
       "1                      51.0           0.0          33.0        49.0     2.0   \n",
       "2                       0.0           0.0           0.0         0.0     0.0   \n",
       "\n",
       "   production  semences  traitement  variation_stock  \n",
       "0        49.0       0.0         0.0              0.0  \n",
       "1        18.0       0.0         0.0              0.0  \n",
       "2         0.0       0.0         0.0              0.0  "
      ]
     },
     "execution_count": 17,
     "metadata": {},
     "output_type": "execute_result"
    }
   ],
   "source": [
    "# Renommage colonnes\n",
    "disponibilite = disponibilite.rename(\n",
    "    columns = {\n",
    "        'aliments pour animaux':'aliments_animaux', 'autres utilisations (non alimentaire)':'autres_utilisations',\n",
    "        'disponibilite alimentaire (kcal/personne/jour)':'disponibilite_kcal_p_j',\n",
    "        'disponibilite alimentaire en quantite (kg/personne/an)':'disponibilite_kg_p_an',\n",
    "        'disponibilite de matiere grasse en quantite (g/personne/jour)':'disponibilite_MG_g_p_j',\n",
    "        'disponibilite de proteines en quantite (g/personne/jour)':'disponibilite_proteines_g_p_j',\n",
    "        'disponibilite interieure':'disponibilite_interieure', 'exportations - quantite':'exportations',\n",
    "        'importations - quantite':'importations', 'variation de stock':'variation_stock'\n",
    "    }\n",
    ")\n",
    "\n",
    "disponibilite.head(3)"
   ]
  },
  {
   "attachments": {},
   "cell_type": "markdown",
   "metadata": {},
   "source": [
    "<a id=\"4\"></a> \n",
    "### *DataFrame* de la population"
   ]
  },
  {
   "cell_type": "code",
   "execution_count": 18,
   "metadata": {},
   "outputs": [
    {
     "data": {
      "text/html": [
       "<div>\n",
       "<style scoped>\n",
       "    .dataframe tbody tr th:only-of-type {\n",
       "        vertical-align: middle;\n",
       "    }\n",
       "\n",
       "    .dataframe tbody tr th {\n",
       "        vertical-align: top;\n",
       "    }\n",
       "\n",
       "    .dataframe thead th {\n",
       "        text-align: right;\n",
       "    }\n",
       "</style>\n",
       "<table border=\"1\" class=\"dataframe\">\n",
       "  <thead>\n",
       "    <tr style=\"text-align: right;\">\n",
       "      <th></th>\n",
       "      <th>Zone</th>\n",
       "      <th>Année</th>\n",
       "      <th>Valeur</th>\n",
       "    </tr>\n",
       "  </thead>\n",
       "  <tbody>\n",
       "    <tr>\n",
       "      <th>0</th>\n",
       "      <td>Afghanistan</td>\n",
       "      <td>2013</td>\n",
       "      <td>32269.589</td>\n",
       "    </tr>\n",
       "    <tr>\n",
       "      <th>1</th>\n",
       "      <td>Afghanistan</td>\n",
       "      <td>2014</td>\n",
       "      <td>33370.794</td>\n",
       "    </tr>\n",
       "    <tr>\n",
       "      <th>2</th>\n",
       "      <td>Afghanistan</td>\n",
       "      <td>2015</td>\n",
       "      <td>34413.603</td>\n",
       "    </tr>\n",
       "  </tbody>\n",
       "</table>\n",
       "</div>"
      ],
      "text/plain": [
       "          Zone  Année     Valeur\n",
       "0  Afghanistan   2013  32269.589\n",
       "1  Afghanistan   2014  33370.794\n",
       "2  Afghanistan   2015  34413.603"
      ]
     },
     "execution_count": 18,
     "metadata": {},
     "output_type": "execute_result"
    }
   ],
   "source": [
    "# Importation 'population.csv'\n",
    "population = pd.read_csv('./datasets/population.csv', sep = ',')\n",
    "\n",
    "population.head(3)"
   ]
  },
  {
   "cell_type": "code",
   "execution_count": 19,
   "metadata": {},
   "outputs": [
    {
     "data": {
      "text/plain": [
       "(1416, 3)"
      ]
     },
     "execution_count": 19,
     "metadata": {},
     "output_type": "execute_result"
    }
   ],
   "source": [
    "# Affichage dimensions DataFrame\n",
    "population.shape"
   ]
  },
  {
   "cell_type": "code",
   "execution_count": 20,
   "metadata": {},
   "outputs": [
    {
     "data": {
      "text/plain": [
       "Zone       object\n",
       "Année       int64\n",
       "Valeur    float64\n",
       "dtype: object"
      ]
     },
     "execution_count": 20,
     "metadata": {},
     "output_type": "execute_result"
    }
   ],
   "source": [
    "# Affichage type données\n",
    "population.dtypes"
   ]
  },
  {
   "attachments": {},
   "cell_type": "markdown",
   "metadata": {},
   "source": [
    "Commentaires:\n",
    "* les données sont correctement importées et correspondent à celles du fichier d'origine;\n",
    "* la taille du jeu de données est identique au fichier source;\n",
    "* les accents et majuscules vont être supprimés des noms de colonnes;\n",
    "* étant une donnée qualitive, l'année sera convertie en objet."
   ]
  },
  {
   "cell_type": "code",
   "execution_count": 22,
   "metadata": {},
   "outputs": [
    {
     "data": {
      "text/html": [
       "<div>\n",
       "<style scoped>\n",
       "    .dataframe tbody tr th:only-of-type {\n",
       "        vertical-align: middle;\n",
       "    }\n",
       "\n",
       "    .dataframe tbody tr th {\n",
       "        vertical-align: top;\n",
       "    }\n",
       "\n",
       "    .dataframe thead th {\n",
       "        text-align: right;\n",
       "    }\n",
       "</style>\n",
       "<table border=\"1\" class=\"dataframe\">\n",
       "  <thead>\n",
       "    <tr style=\"text-align: right;\">\n",
       "      <th></th>\n",
       "      <th>zone</th>\n",
       "      <th>annee</th>\n",
       "      <th>valeur</th>\n",
       "    </tr>\n",
       "  </thead>\n",
       "  <tbody>\n",
       "    <tr>\n",
       "      <th>0</th>\n",
       "      <td>Afghanistan</td>\n",
       "      <td>2013</td>\n",
       "      <td>32269.589</td>\n",
       "    </tr>\n",
       "    <tr>\n",
       "      <th>1</th>\n",
       "      <td>Afghanistan</td>\n",
       "      <td>2014</td>\n",
       "      <td>33370.794</td>\n",
       "    </tr>\n",
       "    <tr>\n",
       "      <th>2</th>\n",
       "      <td>Afghanistan</td>\n",
       "      <td>2015</td>\n",
       "      <td>34413.603</td>\n",
       "    </tr>\n",
       "  </tbody>\n",
       "</table>\n",
       "</div>"
      ],
      "text/plain": [
       "          zone annee     valeur\n",
       "0  Afghanistan  2013  32269.589\n",
       "1  Afghanistan  2014  33370.794\n",
       "2  Afghanistan  2015  34413.603"
      ]
     },
     "execution_count": 22,
     "metadata": {},
     "output_type": "execute_result"
    }
   ],
   "source": [
    "# Renommage et formatage noms colonnes\n",
    "population = (population\n",
    "    .rename(str.lower, axis = 'columns')\n",
    "    .rename(columns = {'année':'annee'})\n",
    ")\n",
    "\n",
    "# Conversion type\n",
    "population['annee'] = population['annee'].astype(object)\n",
    "\n",
    "population.head(3)"
   ]
  },
  {
   "cell_type": "code",
   "execution_count": 24,
   "metadata": {},
   "outputs": [
    {
     "data": {
      "text/plain": [
       "zone      False\n",
       "annee     False\n",
       "valeur    False\n",
       "dtype: bool"
      ]
     },
     "execution_count": 24,
     "metadata": {},
     "output_type": "execute_result"
    }
   ],
   "source": [
    "# Vérification présence valeurs NA\n",
    "population.isna().any()"
   ]
  },
  {
   "attachments": {},
   "cell_type": "markdown",
   "metadata": {},
   "source": [
    "Il n'y a pas de valeurs manquantes dans le jeu de données."
   ]
  },
  {
   "attachments": {},
   "cell_type": "markdown",
   "metadata": {},
   "source": [
    "<a id=\"5\"></a> \n",
    "### *DataFrame* de la sous-nutrition"
   ]
  },
  {
   "cell_type": "code",
   "execution_count": 25,
   "metadata": {},
   "outputs": [
    {
     "data": {
      "text/html": [
       "<div>\n",
       "<style scoped>\n",
       "    .dataframe tbody tr th:only-of-type {\n",
       "        vertical-align: middle;\n",
       "    }\n",
       "\n",
       "    .dataframe tbody tr th {\n",
       "        vertical-align: top;\n",
       "    }\n",
       "\n",
       "    .dataframe thead th {\n",
       "        text-align: right;\n",
       "    }\n",
       "</style>\n",
       "<table border=\"1\" class=\"dataframe\">\n",
       "  <thead>\n",
       "    <tr style=\"text-align: right;\">\n",
       "      <th></th>\n",
       "      <th>Zone</th>\n",
       "      <th>Année</th>\n",
       "      <th>Valeur</th>\n",
       "    </tr>\n",
       "  </thead>\n",
       "  <tbody>\n",
       "    <tr>\n",
       "      <th>0</th>\n",
       "      <td>Afghanistan</td>\n",
       "      <td>2012-2014</td>\n",
       "      <td>8.6</td>\n",
       "    </tr>\n",
       "    <tr>\n",
       "      <th>1</th>\n",
       "      <td>Afghanistan</td>\n",
       "      <td>2013-2015</td>\n",
       "      <td>8.8</td>\n",
       "    </tr>\n",
       "    <tr>\n",
       "      <th>2</th>\n",
       "      <td>Afghanistan</td>\n",
       "      <td>2014-2016</td>\n",
       "      <td>8.9</td>\n",
       "    </tr>\n",
       "  </tbody>\n",
       "</table>\n",
       "</div>"
      ],
      "text/plain": [
       "          Zone      Année Valeur\n",
       "0  Afghanistan  2012-2014    8.6\n",
       "1  Afghanistan  2013-2015    8.8\n",
       "2  Afghanistan  2014-2016    8.9"
      ]
     },
     "execution_count": 25,
     "metadata": {},
     "output_type": "execute_result"
    }
   ],
   "source": [
    "# Importation 'sous_nutrition.csv'\n",
    "sous_nutrition = pd.read_csv('./datasets/sous-nutrition.csv', sep = ',')\n",
    "\n",
    "sous_nutrition.head(3)"
   ]
  },
  {
   "cell_type": "code",
   "execution_count": 26,
   "metadata": {},
   "outputs": [
    {
     "data": {
      "text/plain": [
       "(1218, 3)"
      ]
     },
     "execution_count": 26,
     "metadata": {},
     "output_type": "execute_result"
    }
   ],
   "source": [
    "# Affichage dimensions DataFrame\n",
    "sous_nutrition.shape"
   ]
  },
  {
   "cell_type": "code",
   "execution_count": 27,
   "metadata": {},
   "outputs": [
    {
     "data": {
      "text/plain": [
       "Zone      object\n",
       "Année     object\n",
       "Valeur    object\n",
       "dtype: object"
      ]
     },
     "execution_count": 27,
     "metadata": {},
     "output_type": "execute_result"
    }
   ],
   "source": [
    "# Affichage type données\n",
    "sous_nutrition.dtypes"
   ]
  },
  {
   "attachments": {},
   "cell_type": "markdown",
   "metadata": {},
   "source": [
    "Commentaires:\n",
    "* les données sont correctement importées et correspondent à celles du fichier d'origine;\n",
    "* la taille du jeu de données est identique au fichier source;\n",
    "* les accents et majuscules vont être supprimés des noms de colonnes;\n",
    "* « Année » est ici un intervalle d'années que l'on va remplacer par la valeur intermédiaire de la plage;\n",
    "* « Valeur » est une donnée quantitive et sera convertie en valeur numérique."
   ]
  },
  {
   "cell_type": "code",
   "execution_count": 28,
   "metadata": {},
   "outputs": [
    {
     "data": {
      "text/html": [
       "<div>\n",
       "<style scoped>\n",
       "    .dataframe tbody tr th:only-of-type {\n",
       "        vertical-align: middle;\n",
       "    }\n",
       "\n",
       "    .dataframe tbody tr th {\n",
       "        vertical-align: top;\n",
       "    }\n",
       "\n",
       "    .dataframe thead th {\n",
       "        text-align: right;\n",
       "    }\n",
       "</style>\n",
       "<table border=\"1\" class=\"dataframe\">\n",
       "  <thead>\n",
       "    <tr style=\"text-align: right;\">\n",
       "      <th></th>\n",
       "      <th>zone</th>\n",
       "      <th>annee</th>\n",
       "      <th>valeur</th>\n",
       "    </tr>\n",
       "  </thead>\n",
       "  <tbody>\n",
       "    <tr>\n",
       "      <th>0</th>\n",
       "      <td>Afghanistan</td>\n",
       "      <td>2013</td>\n",
       "      <td>8.6</td>\n",
       "    </tr>\n",
       "    <tr>\n",
       "      <th>1</th>\n",
       "      <td>Afghanistan</td>\n",
       "      <td>2014</td>\n",
       "      <td>8.8</td>\n",
       "    </tr>\n",
       "    <tr>\n",
       "      <th>2</th>\n",
       "      <td>Afghanistan</td>\n",
       "      <td>2015</td>\n",
       "      <td>8.9</td>\n",
       "    </tr>\n",
       "  </tbody>\n",
       "</table>\n",
       "</div>"
      ],
      "text/plain": [
       "          zone annee valeur\n",
       "0  Afghanistan  2013    8.6\n",
       "1  Afghanistan  2014    8.8\n",
       "2  Afghanistan  2015    8.9"
      ]
     },
     "execution_count": 28,
     "metadata": {},
     "output_type": "execute_result"
    }
   ],
   "source": [
    "# Renommage et formatage noms colonnes\n",
    "sous_nutrition = (sous_nutrition\n",
    "    .rename(str.lower, axis = 'columns')\n",
    "    .rename(columns = {'année':'annee'})\n",
    ")\n",
    "\n",
    "# Calcul année intermédiaire\n",
    "sous_nutrition[['debut', 'fin']] = sous_nutrition['annee'].str.split('-', n = 1, expand = True).apply(pd.to_numeric)\n",
    "sous_nutrition['annee'] = sous_nutrition[['debut','fin']].mean(axis = 1).astype(int).astype(object)\n",
    "sous_nutrition = sous_nutrition.drop(['debut','fin'],axis = 1)\n",
    "\n",
    "sous_nutrition.head(3)"
   ]
  },
  {
   "cell_type": "code",
   "execution_count": 29,
   "metadata": {},
   "outputs": [
    {
     "name": "stdout",
     "output_type": "stream",
     "text": [
      "Unable to parse string \"<0.1\" at position 60\n"
     ]
    }
   ],
   "source": [
    "# Conversion type\n",
    "try:\n",
    "    sous_nutrition['valeur'] = pd.to_numeric(sous_nutrition['valeur'])\n",
    "except ValueError as erreur:\n",
    "    print(erreur)"
   ]
  },
  {
   "attachments": {},
   "cell_type": "markdown",
   "metadata": {},
   "source": [
    "La conversion a échoué car des lignes contiennent la chaîne de caractères « <0.1 ». Si ces lignes ont été annotées de cette manière, on peut considérer que c'est parce qu'elles ont des valeurs suffisament faibles pour ne pas être précisées. Nous allons donc les remplacer par « 0 » avant de faire la conversion."
   ]
  },
  {
   "cell_type": "code",
   "execution_count": 30,
   "metadata": {},
   "outputs": [
    {
     "data": {
      "text/plain": [
       "zone      False\n",
       "annee     False\n",
       "valeur     True\n",
       "dtype: bool"
      ]
     },
     "execution_count": 30,
     "metadata": {},
     "output_type": "execute_result"
    }
   ],
   "source": [
    "# Remplacement valeurs '<0.1' par '0' et conversion type\n",
    "sous_nutrition['valeur'] = sous_nutrition['valeur'].replace(regex = '<0.1', value = 0)\n",
    "sous_nutrition['valeur'] = pd.to_numeric(sous_nutrition['valeur'])\n",
    "\n",
    "# Vérification présence valeurs NA\n",
    "sous_nutrition.isna().any()"
   ]
  },
  {
   "cell_type": "code",
   "execution_count": 31,
   "metadata": {},
   "outputs": [
    {
     "data": {
      "text/plain": [
       "0.4876847290640394"
      ]
     },
     "execution_count": 31,
     "metadata": {},
     "output_type": "execute_result"
    }
   ],
   "source": [
    "# Affichage taux valeurs NA de 'valeur'\n",
    "sous_nutrition['valeur'].isna().mean()"
   ]
  },
  {
   "attachments": {},
   "cell_type": "markdown",
   "metadata": {},
   "source": [
    "Près de la moitié des valeurs de la colonne  « valeur » sont manquantes. Voyons quels pays sont concernés."
   ]
  },
  {
   "cell_type": "code",
   "execution_count": 26,
   "metadata": {},
   "outputs": [
    {
     "data": {
      "text/plain": [
       "Index(['Allemagne', 'Andorre', 'Antigua-et-Barbuda', 'Argentine', 'Australie',\n",
       "       'Autriche', 'Azerbaïdjan', 'Bahamas', 'Bahreïn', 'Belgique',\n",
       "       ...\n",
       "       'Tuvalu', 'Ukraine', 'Uruguay', 'Yémen', 'Zambie', 'Zimbabwe',\n",
       "       'Érythrée', 'États-Unis d'Amérique', 'Îles Cook', 'Îles Marshall'],\n",
       "      dtype='object', name='zone', length=101)"
      ]
     },
     "execution_count": 26,
     "metadata": {},
     "output_type": "execute_result"
    }
   ],
   "source": [
    "# Affiche aperçu 'zone' ayant valeur 'sous_nutrition' manquante\n",
    "sous_nutrition.loc[sous_nutrition['valeur'].isna()].groupby('zone')['valeur'].mean().index"
   ]
  },
  {
   "attachments": {},
   "cell_type": "markdown",
   "metadata": {},
   "source": [
    "Il y a des informations manquantes aussi bien pour des pays réellement concernés (ex. Zimbabwe) que pour des pays qui ne le sont pas (ex. Belgique). On peut dans tous les cas s'interroger sur la fiablité de certains résultats que nous allons trouver dans la suite de l'étude."
   ]
  },
  {
   "cell_type": "code",
   "execution_count": 32,
   "metadata": {},
   "outputs": [
    {
     "data": {
      "text/plain": [
       "zone       object\n",
       "annee      object\n",
       "valeur    float64\n",
       "dtype: object"
      ]
     },
     "execution_count": 32,
     "metadata": {},
     "output_type": "execute_result"
    }
   ],
   "source": [
    "# Vérification type données\n",
    "sous_nutrition.dtypes"
   ]
  },
  {
   "attachments": {},
   "cell_type": "markdown",
   "metadata": {},
   "source": [
    "<a id=\"7\"></a> \n",
    "### Lien logique entre les variables de la disponibilité alimentaire"
   ]
  },
  {
   "attachments": {},
   "cell_type": "markdown",
   "metadata": {},
   "source": [
    "Le *DataFrame* `disponibilite`, comprend les colonnes ci-dessous."
   ]
  },
  {
   "cell_type": "code",
   "execution_count": 28,
   "metadata": {},
   "outputs": [
    {
     "data": {
      "text/plain": [
       "Index(['zone', 'produit', 'origine', 'aliments_animaux', 'autres_utilisations',\n",
       "       'disponibilite_kcal_p_j', 'disponibilite_kg_p_an',\n",
       "       'disponibilite_MG_g_p_j', 'disponibilite_proteines_g_p_j',\n",
       "       'disponibilite_interieure', 'exportations', 'importations',\n",
       "       'nourriture', 'pertes', 'production', 'semences', 'traitement',\n",
       "       'variation_stock'],\n",
       "      dtype='object')"
      ]
     },
     "execution_count": 28,
     "metadata": {},
     "output_type": "execute_result"
    }
   ],
   "source": [
    "# Affichage nom colonnes\n",
    "disponibilite.columns"
   ]
  },
  {
   "attachments": {},
   "cell_type": "markdown",
   "metadata": {},
   "source": [
    "La division de la statistique FAO donne la définition suivante:<br>\n",
    "« Production + importations - exportations + évolution des stocks (augmentation ou diminution) = disponibilités servant à une utilisation intérieure ».<br><br>\n",
    "En reprenant les noms des colonnes de notre jeu de données, cela donne:<br><br>\n",
    "$(production + importations - exportations + variation\\_ stock) = disponibilite\\_ interieure = (aliments\\_ animaux + autres\\_ utilisations + nourriture + pertes + semences + traitement)$"
   ]
  },
  {
   "attachments": {},
   "cell_type": "markdown",
   "metadata": {},
   "source": [
    "<a id=\"8\"></a> \n",
    "### Utilisation des céréales"
   ]
  },
  {
   "attachments": {},
   "cell_type": "markdown",
   "metadata": {},
   "source": [
    "L'objectif est de comparer l'utilisation des céréales, notamment la répartition entre la quantité destinée à l'alimentation humaine et celle destinée à l'alimentation des animaux.<br>\n",
    "A partir du *DataFrame* `disponibilite`, nous allons extraire la somme de la quantité de céréales des colonnes « nourriture » et « aliments_animaux »."
   ]
  },
  {
   "cell_type": "code",
   "execution_count": 34,
   "metadata": {},
   "outputs": [
    {
     "data": {
      "text/plain": [
       "nourriture          1602845.0\n",
       "aliments_animaux    1159399.0\n",
       "dtype: float64"
      ]
     },
     "execution_count": 34,
     "metadata": {},
     "output_type": "execute_result"
    }
   ],
   "source": [
    "# Création liste céréales (source: FAOSTAT)\n",
    "liste_cereales = [\n",
    "    'Avoine', 'Blé et produits', 'Céréales, Autres', 'Maïs et produits', 'Millet et produits',\n",
    "    'Orge et produits', 'Riz et produits', 'Seigle et produits', 'Sorgho et produits'\n",
    "]\n",
    "\n",
    "# Création DataFrame 'utilisation_cereales' depuis 'liste_cereales'\n",
    "utilisation_cereales = disponibilite.loc[disponibilite['produit'].isin(liste_cereales), ['nourriture', 'aliments_animaux']]\n",
    "\n",
    "# Affichage somme céréales pour 'nourriture' et 'aliments_animaux'\n",
    "utilisation_cereales.sum()"
   ]
  },
  {
   "attachments": {},
   "cell_type": "markdown",
   "metadata": {},
   "source": [
    "La quantité de céréales utilisés pour les animaux est inférieure à celle utilisée pour l'alimentation humaine mais, en comparaison avec cette dernière, sa valeur reste très importante.<br>\n",
    "Afin de mieux nous rendre compte de la répartition, nous pouvons afficher ces résultats sous forme graphique."
   ]
  },
  {
   "cell_type": "code",
   "execution_count": 35,
   "metadata": {},
   "outputs": [
    {
     "data": {
      "image/png": "[encoded data removed]",
      "text/plain": [
       "<Figure size 640x480 with 1 Axes>"
      ]
     },
     "metadata": {},
     "output_type": "display_data"
    }
   ],
   "source": [
    "# Traçage graphique\n",
    "taille_barres = (utilisation_cereales.sum() / 1000)\n",
    "nom_barres = utilisation_cereales.columns\n",
    "position_barres = np.arange(len(taille_barres))\n",
    "\n",
    "plt.bar(position_barres, taille_barres, width = 0.55, color = ['tab:blue', 'tab:orange'], zorder = 2)\n",
    "plt.grid(axis = 'y')\n",
    "plt.xticks(position_barres, nom_barres)\n",
    "plt.ylabel('Disponibilité en millions de tonnes')\n",
    "plt.title('Répartition de l\\'utilisation des céréales')\n",
    "plt.show()"
   ]
  },
  {
   "attachments": {},
   "cell_type": "markdown",
   "metadata": {},
   "source": [
    "<a id=\"9\"></a> \n",
    "### Analyse de l'exportation par rapport à la production"
   ]
  },
  {
   "cell_type": "code",
   "execution_count": 37,
   "metadata": {},
   "outputs": [
    {
     "data": {
      "text/html": [
       "<div>\n",
       "<style scoped>\n",
       "    .dataframe tbody tr th:only-of-type {\n",
       "        vertical-align: middle;\n",
       "    }\n",
       "\n",
       "    .dataframe tbody tr th {\n",
       "        vertical-align: top;\n",
       "    }\n",
       "\n",
       "    .dataframe thead th {\n",
       "        text-align: right;\n",
       "    }\n",
       "</style>\n",
       "<table border=\"1\" class=\"dataframe\">\n",
       "  <thead>\n",
       "    <tr style=\"text-align: right;\">\n",
       "      <th></th>\n",
       "      <th>zone</th>\n",
       "      <th>origine</th>\n",
       "      <th>produit</th>\n",
       "      <th>exportations</th>\n",
       "      <th>production</th>\n",
       "      <th>nourriture</th>\n",
       "    </tr>\n",
       "  </thead>\n",
       "  <tbody>\n",
       "    <tr>\n",
       "      <th>14958</th>\n",
       "      <td>Thaïlande</td>\n",
       "      <td>vegetale</td>\n",
       "      <td>Manioc et produits</td>\n",
       "      <td>29409.0</td>\n",
       "      <td>30495.0</td>\n",
       "      <td>153.0</td>\n",
       "    </tr>\n",
       "  </tbody>\n",
       "</table>\n",
       "</div>"
      ],
      "text/plain": [
       "            zone   origine             produit  exportations  production  \\\n",
       "14958  Thaïlande  vegetale  Manioc et produits       29409.0     30495.0   \n",
       "\n",
       "       nourriture  \n",
       "14958       153.0  "
      ]
     },
     "execution_count": 37,
     "metadata": {},
     "output_type": "execute_result"
    }
   ],
   "source": [
    "# Création DataFrame 'exportation_production' et affichage informations en Thaïlande pour manioc\n",
    "exportation_production = disponibilite[['zone','origine', 'produit', 'exportations', 'production', 'nourriture']].copy()\n",
    "exportation_production.loc[(exportation_production['zone'] == 'Thaïlande') & (exportation_production['produit'].str.contains('manioc', case = False))]"
   ]
  },
  {
   "attachments": {},
   "cell_type": "markdown",
   "metadata": {},
   "source": [
    "Puis, calculons le taux de sous-nutrition."
   ]
  },
  {
   "cell_type": "code",
   "execution_count": 38,
   "metadata": {},
   "outputs": [
    {
     "name": "stdout",
     "output_type": "stream",
     "text": [
      "8.96%\n"
     ]
    }
   ],
   "source": [
    "# Création et calcul variable 'taux_sous_nutrition_thailande'\n",
    "sous_nutrition_thailande = (sous_nutrition.loc[(sous_nutrition['zone'] == 'Thaïlande') & (sous_nutrition['annee'] == 2017), ['valeur']]).squeeze()\n",
    "\n",
    "population_thailande = (population.loc[(population['zone'] == 'Thaïlande') & (population['annee'] == 2017), ['valeur']] / 1000).squeeze()\n",
    "\n",
    "taux_sous_nutrition_thailande = (sous_nutrition_thailande / population_thailande)\n",
    "print('{:.2%}'.format(taux_sous_nutrition_thailande))"
   ]
  },
  {
   "attachments": {},
   "cell_type": "markdown",
   "metadata": {},
   "source": [
    "La Thaïlande a un taux de sous-nutrition assez important (proche de 9 % en 2017). Néanmoins, on s'aperçoit que pratiquement la totalité de sa production de manioc est exportée et que la part restante pour l'alimentation humaine est proche de 0."
   ]
  },
  {
   "attachments": {},
   "cell_type": "markdown",
   "metadata": {},
   "source": [
    "<a id=\"11\"></a> \n",
    "### Proportion de personnes en état de sous-nutrition"
   ]
  },
  {
   "attachments": {},
   "cell_type": "markdown",
   "metadata": {},
   "source": [
    "Le but est de calculer le taux de sous-nutrition au niveau mondial en 2017. A l'aide d'une jointure, nous allons créer un nouveau *DataFrame* à partir de celui de la population et de celui de la nutrition. Avant de réaliser cette opération, faisons quelques vérifications sur les données présentes dans les deux jeux de données."
   ]
  },
  {
   "cell_type": "code",
   "execution_count": 39,
   "metadata": {},
   "outputs": [
    {
     "name": "stdout",
     "output_type": "stream",
     "text": [
      "[2013 2014 2015 2016 2017 2018]\n",
      "[2013 2014 2015 2016 2017 2018]\n"
     ]
    }
   ],
   "source": [
    "# Affiche années des Dataframe 'population' et 'sous_nutrition'\n",
    "print(population.annee.unique(), sous_nutrition.annee.unique(), sep = '\\n')"
   ]
  },
  {
   "attachments": {},
   "cell_type": "markdown",
   "metadata": {},
   "source": [
    "Les données présentes dans les deux *DataFrame* couvrent bien la même période de temps."
   ]
  },
  {
   "cell_type": "code",
   "execution_count": 40,
   "metadata": {},
   "outputs": [
    {
     "name": "stdout",
     "output_type": "stream",
     "text": [
      "236\n",
      "203\n"
     ]
    }
   ],
   "source": [
    "# Affichage nombre zones des Dataframe 'population' et 'sous_nutrition'\n",
    "print (population['zone'].nunique(), sous_nutrition['zone'].nunique(), sep = '\\n')"
   ]
  },
  {
   "attachments": {},
   "cell_type": "markdown",
   "metadata": {},
   "source": [
    "Le nombre de zones présentes dans le *DataFrame* de la population est supérieur à celui du *DataFrame*  de la sous-nutrition. Cela signifie que pour certaines zones, nous n'aurons pas d'information de sous-nutrition."
   ]
  },
  {
   "cell_type": "code",
   "execution_count": 41,
   "metadata": {},
   "outputs": [
    {
     "data": {
      "text/html": [
       "<div>\n",
       "<style scoped>\n",
       "    .dataframe tbody tr th:only-of-type {\n",
       "        vertical-align: middle;\n",
       "    }\n",
       "\n",
       "    .dataframe tbody tr th {\n",
       "        vertical-align: top;\n",
       "    }\n",
       "\n",
       "    .dataframe thead th {\n",
       "        text-align: right;\n",
       "    }\n",
       "</style>\n",
       "<table border=\"1\" class=\"dataframe\">\n",
       "  <thead>\n",
       "    <tr style=\"text-align: right;\">\n",
       "      <th></th>\n",
       "      <th>zone</th>\n",
       "      <th>annee_x</th>\n",
       "      <th>valeur_x</th>\n",
       "      <th>annee_y</th>\n",
       "      <th>valeur_y</th>\n",
       "    </tr>\n",
       "  </thead>\n",
       "  <tbody>\n",
       "    <tr>\n",
       "      <th>0</th>\n",
       "      <td>Afghanistan</td>\n",
       "      <td>2017</td>\n",
       "      <td>36296.113</td>\n",
       "      <td>2017</td>\n",
       "      <td>10.5</td>\n",
       "    </tr>\n",
       "    <tr>\n",
       "      <th>1</th>\n",
       "      <td>Afrique du Sud</td>\n",
       "      <td>2017</td>\n",
       "      <td>57009.756</td>\n",
       "      <td>2017</td>\n",
       "      <td>3.1</td>\n",
       "    </tr>\n",
       "    <tr>\n",
       "      <th>2</th>\n",
       "      <td>Albanie</td>\n",
       "      <td>2017</td>\n",
       "      <td>2884.169</td>\n",
       "      <td>2017</td>\n",
       "      <td>0.1</td>\n",
       "    </tr>\n",
       "  </tbody>\n",
       "</table>\n",
       "</div>"
      ],
      "text/plain": [
       "             zone annee_x   valeur_x annee_y  valeur_y\n",
       "0     Afghanistan    2017  36296.113    2017      10.5\n",
       "1  Afrique du Sud    2017  57009.756    2017       3.1\n",
       "2         Albanie    2017   2884.169    2017       0.1"
      ]
     },
     "execution_count": 41,
     "metadata": {},
     "output_type": "execute_result"
    }
   ],
   "source": [
    "# Jointure DataFrame 'population' et 'sous_nutrition'\n",
    "population_sous_nutrition = pd.merge(\n",
    "    (population.loc[population['annee'] == 2017, :]), (sous_nutrition.loc[sous_nutrition['annee'] == 2017, :]),\n",
    "    on = ['zone'], how = 'left'\n",
    ")\n",
    "\n",
    "population_sous_nutrition.head(3)"
   ]
  },
  {
   "cell_type": "code",
   "execution_count": 42,
   "metadata": {},
   "outputs": [
    {
     "data": {
      "text/html": [
       "<div>\n",
       "<style scoped>\n",
       "    .dataframe tbody tr th:only-of-type {\n",
       "        vertical-align: middle;\n",
       "    }\n",
       "\n",
       "    .dataframe tbody tr th {\n",
       "        vertical-align: top;\n",
       "    }\n",
       "\n",
       "    .dataframe thead th {\n",
       "        text-align: right;\n",
       "    }\n",
       "</style>\n",
       "<table border=\"1\" class=\"dataframe\">\n",
       "  <thead>\n",
       "    <tr style=\"text-align: right;\">\n",
       "      <th></th>\n",
       "      <th>zone</th>\n",
       "      <th>valeur_population</th>\n",
       "      <th>valeur_sous_nutrition</th>\n",
       "    </tr>\n",
       "  </thead>\n",
       "  <tbody>\n",
       "    <tr>\n",
       "      <th>0</th>\n",
       "      <td>Afghanistan</td>\n",
       "      <td>36.296113</td>\n",
       "      <td>10.5</td>\n",
       "    </tr>\n",
       "    <tr>\n",
       "      <th>1</th>\n",
       "      <td>Afrique du Sud</td>\n",
       "      <td>57.009756</td>\n",
       "      <td>3.1</td>\n",
       "    </tr>\n",
       "    <tr>\n",
       "      <th>2</th>\n",
       "      <td>Albanie</td>\n",
       "      <td>2.884169</td>\n",
       "      <td>0.1</td>\n",
       "    </tr>\n",
       "  </tbody>\n",
       "</table>\n",
       "</div>"
      ],
      "text/plain": [
       "             zone  valeur_population  valeur_sous_nutrition\n",
       "0     Afghanistan          36.296113                   10.5\n",
       "1  Afrique du Sud          57.009756                    3.1\n",
       "2         Albanie           2.884169                    0.1"
      ]
     },
     "execution_count": 42,
     "metadata": {},
     "output_type": "execute_result"
    }
   ],
   "source": [
    "# Suppression et renommage colonnes\n",
    "population_sous_nutrition = (population_sous_nutrition\n",
    "    .drop(['annee_x', 'annee_y'], axis = 1)\n",
    "    .rename(columns = {'valeur_x':'valeur_population', 'valeur_y':'valeur_sous_nutrition'})\n",
    ")\n",
    "\n",
    "# Conversion colonne 'valeur_population' en millions d'habitants\n",
    "population_sous_nutrition['valeur_population'] = population_sous_nutrition['valeur_population'] / 1000\n",
    "\n",
    "population_sous_nutrition.head(3)"
   ]
  },
  {
   "attachments": {},
   "cell_type": "markdown",
   "metadata": {},
   "source": [
    "Nous savons que l'information de sous-nutrition est manquante pour 33 des 236 zones de notre jeu données. Mais l'important est de savoir si les zones sans information représentent une part de population significative par rapport au total."
   ]
  },
  {
   "cell_type": "code",
   "execution_count": 43,
   "metadata": {},
   "outputs": [
    {
     "name": "stdout",
     "output_type": "stream",
     "text": [
      "3365.30\n",
      "7548.13\n"
     ]
    }
   ],
   "source": [
    "# Affichage population sans 'valeur_sous_nutrition' et population totale\n",
    "print(\n",
    "    '{:.2f}'.format (population_sous_nutrition.loc[population_sous_nutrition['valeur_sous_nutrition'].isna(),'valeur_population'].sum()),\n",
    "    '{:.2f}'.format (population_sous_nutrition['valeur_population'].sum()),\n",
    "    sep = '\\n'\n",
    ")"
   ]
  },
  {
   "attachments": {},
   "cell_type": "markdown",
   "metadata": {},
   "source": [
    "La population pour laquelle nous n'avons pas d'information est très importante par rapport à la population totale.<br>\n",
    "Nous allons quand même calculer le taux de sous-nutrition en excluant les pays concernés tout en gardant en tête qu'il nous manque plus de 40 % des informations."
   ]
  },
  {
   "cell_type": "code",
   "execution_count": 44,
   "metadata": {},
   "outputs": [
    {
     "name": "stdout",
     "output_type": "stream",
     "text": [
      "12.8%\n"
     ]
    }
   ],
   "source": [
    "# Calcul et affichage variable 'taux_sous_nutrition'\n",
    "\n",
    "taux_sous_nutrition =(\n",
    "    population_sous_nutrition.loc[~population_sous_nutrition['valeur_sous_nutrition'].isna(),'valeur_sous_nutrition'].sum()\n",
    "    / population_sous_nutrition.loc[~population_sous_nutrition['valeur_sous_nutrition'].isna(),'valeur_population'].sum()\n",
    ")\n",
    "print('{:.1%}'.format (taux_sous_nutrition))"
   ]
  },
  {
   "attachments": {},
   "cell_type": "markdown",
   "metadata": {},
   "source": [
    "<a id=\"12\"></a> \n",
    "### Nombre théorique de personnes qui pourraient être nourries"
   ]
  },
  {
   "attachments": {},
   "cell_type": "markdown",
   "metadata": {},
   "source": [
    "A partir des informations de disponibilité et plus spécialement des apports disponibles par personne (kcal/p/j), nous allons calculer la population qu'il serait possible de nourrir grâce à la disponibilité mondiale. Pour cela, nous allons d'abord rapprocher les *DataFrame* `disponibilite` et `population_nutrition`."
   ]
  },
  {
   "cell_type": "code",
   "execution_count": 45,
   "metadata": {},
   "outputs": [
    {
     "data": {
      "text/plain": [
       "zone                             0.000000\n",
       "aliments_animaux                 0.000000\n",
       "autres_utilisations              0.000000\n",
       "disponibilite_kcal_p_j           0.000000\n",
       "disponibilite_kg_p_an            0.000000\n",
       "disponibilite_MG_g_p_j           0.000000\n",
       "disponibilite_proteines_g_p_j    0.000000\n",
       "disponibilite_interieure         0.000000\n",
       "exportations                     0.000000\n",
       "importations                     0.000000\n",
       "nourriture                       0.000000\n",
       "pertes                           0.000000\n",
       "production                       0.000000\n",
       "semences                         0.000000\n",
       "traitement                       0.000000\n",
       "variation_stock                  0.000000\n",
       "valeur_population                0.005376\n",
       "valeur_sous_nutrition            0.440860\n",
       "dtype: float64"
      ]
     },
     "execution_count": 45,
     "metadata": {},
     "output_type": "execute_result"
    }
   ],
   "source": [
    "# Création DataFrame 'disponibilite_zone'\n",
    "disponibilite_zone = (disponibilite\n",
    "    .groupby(['zone'])[['aliments_animaux', 'autres_utilisations', 'disponibilite_kcal_p_j', 'disponibilite_kg_p_an',\n",
    "       'disponibilite_MG_g_p_j', 'disponibilite_proteines_g_p_j', 'disponibilite_interieure', 'exportations',\n",
    "       'importations', 'nourriture', 'pertes', 'production', 'semences', 'traitement', 'variation_stock']]\n",
    "    .sum(numeric_only = True)\n",
    "    .reset_index()\n",
    ")\n",
    "\n",
    "# Jointure DataFrame 'disponibilite_zone' et 'population_sous_nutrition'\n",
    "disponibilite_zone = pd.merge((disponibilite_zone), (population_sous_nutrition), on = ['zone'], how = 'left')\n",
    "\n",
    "# Affichage taux valeurs NA\n",
    "disponibilite_zone.isna().mean()"
   ]
  },
  {
   "cell_type": "code",
   "execution_count": 46,
   "metadata": {},
   "outputs": [
    {
     "data": {
      "text/plain": [
       "34    Chine\n",
       "Name: zone, dtype: object"
      ]
     },
     "execution_count": 46,
     "metadata": {},
     "output_type": "execute_result"
    }
   ],
   "source": [
    "# Affichage pays sans valeur sous-nutrition\n",
    "disponibilite_zone.loc[(disponibilite_zone['valeur_population'].isna()) & (disponibilite_zone['valeur_sous_nutrition'].isna()), 'zone']"
   ]
  },
  {
   "cell_type": "code",
   "execution_count": 47,
   "metadata": {},
   "outputs": [
    {
     "data": {
      "text/html": [
       "<div>\n",
       "<style scoped>\n",
       "    .dataframe tbody tr th:only-of-type {\n",
       "        vertical-align: middle;\n",
       "    }\n",
       "\n",
       "    .dataframe tbody tr th {\n",
       "        vertical-align: top;\n",
       "    }\n",
       "\n",
       "    .dataframe thead th {\n",
       "        text-align: right;\n",
       "    }\n",
       "</style>\n",
       "<table border=\"1\" class=\"dataframe\">\n",
       "  <thead>\n",
       "    <tr style=\"text-align: right;\">\n",
       "      <th></th>\n",
       "      <th>zone</th>\n",
       "      <th>valeur_population</th>\n",
       "    </tr>\n",
       "  </thead>\n",
       "  <tbody>\n",
       "    <tr>\n",
       "      <th>34</th>\n",
       "      <td>Chine</td>\n",
       "      <td>NaN</td>\n",
       "    </tr>\n",
       "    <tr>\n",
       "      <th>35</th>\n",
       "      <td>Chine - RAS de Hong-Kong</td>\n",
       "      <td>7.306322</td>\n",
       "    </tr>\n",
       "    <tr>\n",
       "      <th>36</th>\n",
       "      <td>Chine - RAS de Macao</td>\n",
       "      <td>0.622585</td>\n",
       "    </tr>\n",
       "    <tr>\n",
       "      <th>37</th>\n",
       "      <td>Chine, Taiwan Province de</td>\n",
       "      <td>23.674546</td>\n",
       "    </tr>\n",
       "    <tr>\n",
       "      <th>38</th>\n",
       "      <td>Chine, continentale</td>\n",
       "      <td>1421.021791</td>\n",
       "    </tr>\n",
       "  </tbody>\n",
       "</table>\n",
       "</div>"
      ],
      "text/plain": [
       "                         zone  valeur_population\n",
       "34                      Chine                NaN\n",
       "35   Chine - RAS de Hong-Kong           7.306322\n",
       "36       Chine - RAS de Macao           0.622585\n",
       "37  Chine, Taiwan Province de          23.674546\n",
       "38        Chine, continentale        1421.021791"
      ]
     },
     "execution_count": 47,
     "metadata": {},
     "output_type": "execute_result"
    }
   ],
   "source": [
    "# Recherche Chine dans Dataframe \n",
    "disponibilite_zone.loc[disponibilite_zone['zone'].str.contains('chine', case = False), ['zone', 'valeur_population']]"
   ]
  },
  {
   "attachments": {},
   "cell_type": "markdown",
   "metadata": {},
   "source": [
    "Suite à la jointure, on constate que la Chine est présente plusieurs fois dont une fois sans valeur de population. « Chine » et « Chine, continentale » correspondent à la même chose. Nous pouvons donc supprimer la ligne sans valeur."
   ]
  },
  {
   "cell_type": "code",
   "execution_count": 48,
   "metadata": {},
   "outputs": [],
   "source": [
    "# Suppression 'Chine'\n",
    "disponibilite_zone = disponibilite_zone.drop(index = 34).reset_index(drop = True)"
   ]
  },
  {
   "attachments": {},
   "cell_type": "markdown",
   "metadata": {},
   "source": [
    "Nous pouvons à présent poursuivre notre étude. Pour cela nous choisissons de définir les apports calorifiques journaliers à **2 250 kcal/personne/jour**. Cela correspond aux besoins moyens d'un adulte."
   ]
  },
  {
   "cell_type": "code",
   "execution_count": 49,
   "metadata": {},
   "outputs": [
    {
     "name": "stdout",
     "output_type": "stream",
     "text": [
      "9818.8 pour 7548.1\n"
     ]
    }
   ],
   "source": [
    "# Calcul et affichage variable 'nombre_theorique_total'\n",
    "besoins_kcal_j_p = 2250\n",
    "nombre_theorique_total = (disponibilite_zone['disponibilite_kcal_p_j'] * disponibilite_zone['valeur_population']).sum() / besoins_kcal_j_p\n",
    "print(\n",
    "    '{:.1f}'.format(nombre_theorique_total),\n",
    "    'pour',\n",
    "    '{:.1f}'.format(population.loc[population['annee'] == 2017, 'valeur'].sum() / 1000)\n",
    ")"
   ]
  },
  {
   "attachments": {},
   "cell_type": "markdown",
   "metadata": {},
   "source": [
    "La disponibilité mondiale permettrait de nourrir, en théorie, **9.8 milliards de personnes** soit plus que la population entière."
   ]
  },
  {
   "attachments": {},
   "cell_type": "markdown",
   "metadata": {},
   "source": [
    "<a id=\"13\"></a> \n",
    "### Nombre théorique de personnes qui pourraient être nourries avec les produits végétaux"
   ]
  },
  {
   "attachments": {},
   "cell_type": "markdown",
   "metadata": {},
   "source": [
    "Le calcul est le même que le précédent sauf que nous n'allons conserver que les produits d'origine végétale."
   ]
  },
  {
   "cell_type": "code",
   "execution_count": 51,
   "metadata": {},
   "outputs": [
    {
     "name": "stdout",
     "output_type": "stream",
     "text": [
      "8083.0 pour 7548.1\n"
     ]
    }
   ],
   "source": [
    "# Création DataFrame 'disponibilite_vegetale_zone'\n",
    "disponibilite_vegetale_zone = (disponibilite.loc[disponibilite['origine'] == 'vegetale']\n",
    "    .groupby(['zone'])[['aliments_animaux', 'autres_utilisations', 'disponibilite_kcal_p_j', 'disponibilite_kg_p_an',\n",
    "       'disponibilite_MG_g_p_j', 'disponibilite_proteines_g_p_j', 'disponibilite_interieure', 'exportations',\n",
    "       'importations', 'nourriture', 'pertes', 'production', 'semences', 'traitement', 'variation_stock']]\n",
    "    .sum(numeric_only = True)\n",
    "    .reset_index()\n",
    ")\n",
    "\n",
    "# Jointure DataFrame 'disponibilite_vegetale_zone' et 'population_sous_nutrition'\n",
    "disponibilite_vegetale_zone = pd.merge((disponibilite_vegetale_zone), (population_sous_nutrition), on = ['zone'], how = 'left')\n",
    "\n",
    "#Suppression zone sans population\n",
    "disponibilite_vegetale_zone = (disponibilite_vegetale_zone\n",
    "    .drop(disponibilite_vegetale_zone[disponibilite_vegetale_zone['zone'] == 'Chine'].index)\n",
    "    .reset_index(drop = True)\n",
    ")\n",
    "\n",
    "# Calcul et affichage variable 'nombre_theorique_total_vegetale'\n",
    "nombre_theorique_total_vegetale = (disponibilite_vegetale_zone['disponibilite_kcal_p_j'] * disponibilite_vegetale_zone['valeur_population']).sum() / besoins_kcal_j_p\n",
    "print(\n",
    "    '{:.1f}'.format (nombre_theorique_total_vegetale),\n",
    "    'pour',\n",
    "    '{:.1f}'.format(population.loc[population['annee'] == 2017, 'valeur'].sum() / 1000)\n",
    ")"
   ]
  },
  {
   "attachments": {},
   "cell_type": "markdown",
   "metadata": {},
   "source": [
    "La disponibilité mondiale des produits végétaux permettrait de nourrir, en théorie, **8 milliards de personnes** soit plus que la population entière."
   ]
  },
  {
   "attachments": {},
   "cell_type": "markdown",
   "metadata": {},
   "source": [
    "<a id=\"14\"></a> \n",
    "### Nombre théorique de personnes qui pourraient être nourries avec les produits animals"
   ]
  },
  {
   "attachments": {},
   "cell_type": "markdown",
   "metadata": {},
   "source": [
    "Faisons une dernière fois ce calcul en ne gardant cette fois que les produits d'origine animale."
   ]
  },
  {
   "cell_type": "code",
   "execution_count": 52,
   "metadata": {},
   "outputs": [
    {
     "name": "stdout",
     "output_type": "stream",
     "text": [
      "1735.8 pour 7548.1\n"
     ]
    }
   ],
   "source": [
    "# Création DataFrame 'disponibilite_animale_zone'\n",
    "disponibilite_animale_zone = (disponibilite.loc[disponibilite['origine'] == 'animale']\n",
    "    .groupby(['zone'])[['aliments_animaux', 'autres_utilisations', 'disponibilite_kcal_p_j', 'disponibilite_kg_p_an',\n",
    "       'disponibilite_MG_g_p_j', 'disponibilite_proteines_g_p_j', 'disponibilite_interieure', 'exportations',\n",
    "       'importations', 'nourriture', 'pertes', 'production', 'semences', 'traitement', 'variation_stock']]\n",
    "    .sum(numeric_only = True)\n",
    "    .reset_index()\n",
    ")\n",
    "\n",
    "# Jointure DataFrame 'disponibilite_animale_zone' et 'population_sous_nutrition'\n",
    "disponibilite_animale_zone = pd.merge((disponibilite_animale_zone), (population_sous_nutrition), on = ['zone'], how = 'left')\n",
    "\n",
    "#Suppression zone sans population\n",
    "disponibilite_animale_zone = (disponibilite_animale_zone\n",
    "    .drop(disponibilite_animale_zone[disponibilite_animale_zone['zone'] == 'Chine'].index)\n",
    "    .reset_index(drop = True)\n",
    ")\n",
    "\n",
    "# Calcul et affichage variable 'nombre_theorique_total_animale'\n",
    "nombre_theorique_total_animale = (disponibilite_animale_zone['disponibilite_kcal_p_j'] * disponibilite_animale_zone['valeur_population']).sum() / besoins_kcal_j_p\n",
    "print('{:.1f}'.format (nombre_theorique_total_animale),\n",
    "    'pour',\n",
    "    '{:.1f}'.format(population.loc[population['annee'] == 2017, 'valeur'].sum() / 1000)\n",
    ")"
   ]
  },
  {
   "attachments": {},
   "cell_type": "markdown",
   "metadata": {},
   "source": [
    "Le constat est différent: la disponibilité animale ne permet de nourrir **que 23 % de la population**."
   ]
  },
  {
   "attachments": {},
   "cell_type": "markdown",
   "metadata": {},
   "source": [
    "<a id=\"15\"></a> \n",
    "### Utilisation de la disponibilité intérieure"
   ]
  },
  {
   "attachments": {},
   "cell_type": "markdown",
   "metadata": {},
   "source": [
    "Etudions maintenant l'usage qui est fait de la disponibilité intérieure. Pour rappel, nous avons précédemment déterminé la relation ci-dessous.<br><br>\n",
    "$disponibilite\\_ interieure = (aliments\\_ animaux + autres\\_ utilisations + nourriture + pertes + semences + traitement)$<br><br>\n",
    "Nous allons récupérer la somme de chacune des utilisations que nous allons ensuite afficher dans un graphique."
   ]
  },
  {
   "cell_type": "code",
   "execution_count": 55,
   "metadata": {},
   "outputs": [
    {
     "data": {
      "image/png": "[encoded data removed]",
      "text/plain": [
       "<Figure size 640x480 with 1 Axes>"
      ]
     },
     "metadata": {},
     "output_type": "display_data"
    }
   ],
   "source": [
    "# Création DataFrame 'utilisation_disponibilite' et traçage graphique\n",
    "utilisation_disponibilite = (disponibilite[['aliments_animaux', 'autres_utilisations', 'nourriture', 'pertes', 'semences', 'traitement']]\n",
    "    .sum()\n",
    "    .sort_values(ascending = False)\n",
    ")\n",
    "plt.pie(utilisation_disponibilite.values, autopct = '%.1f%%', pctdistance = 1.15, startangle = 90)\n",
    "plt.title('Répartition de l\\'utilisation de la disponibilité intérieure')\n",
    "plt.legend(utilisation_disponibilite.index, loc = 7, bbox_to_anchor=(1.54, 0.5))\n",
    "plt.show()"
   ]
  },
  {
   "attachments": {},
   "cell_type": "markdown",
   "metadata": {},
   "source": [
    "Seule la moitié de la disponibilité est utilisée, avec certitude, pour l'alimentation humaine alors que les pertes et les aliments pour animaux représentent presque **20 % du total**.<br>\n",
    "Pour aller plus loin, faisons le même travail mais en ciblant dans un premier temps les produits d'origine végétale puis en zoomant spécifiquement sur les céréales."
   ]
  },
  {
   "cell_type": "code",
   "execution_count": 56,
   "metadata": {},
   "outputs": [
    {
     "data": {
      "image/png": "[encoded data removed]",
      "text/plain": [
       "<Figure size 640x480 with 1 Axes>"
      ]
     },
     "metadata": {},
     "output_type": "display_data"
    }
   ],
   "source": [
    "# Création DataFrame 'utilisation_disponibilite_vegetale' et traçage graphique\n",
    "utilisation_disponibilite_vegetale = disponibilite.loc[\n",
    "    disponibilite['origine'] == 'vegetale',\n",
    "    ['aliments_animaux', 'autres_utilisations', 'nourriture', 'pertes', 'semences', 'traitement']\n",
    "].sum().sort_values(ascending = False)\n",
    "\n",
    "plt.pie(utilisation_disponibilite_vegetale.values, autopct = '%.1f%%', pctdistance = 1.15, startangle = 90)\n",
    "plt.title('Répartition de l\\'utilisation de la disponibilité intérieure d\\'origine végétale')\n",
    "plt.legend(utilisation_disponibilite_vegetale.index,  loc = 7, bbox_to_anchor=(1.54, 0.5))\n",
    "plt.show()"
   ]
  },
  {
   "cell_type": "code",
   "execution_count": 57,
   "metadata": {},
   "outputs": [
    {
     "data": {
      "image/png": "[encoded data removed]",
      "text/plain": [
       "<Figure size 640x480 with 1 Axes>"
      ]
     },
     "metadata": {},
     "output_type": "display_data"
    }
   ],
   "source": [
    "# Création DataFrame 'utilisation_disponibilite_cereales' et traçage graphique\n",
    "utilisation_disponibilite_cereales = disponibilite.loc[\n",
    "    disponibilite['produit'].isin(liste_cereales),\n",
    "    ['aliments_animaux', 'autres_utilisations', 'nourriture', 'pertes', 'semences', 'traitement']\n",
    "].sum().sort_values(ascending = False)\n",
    "\n",
    "plt.pie(utilisation_disponibilite_cereales.values, autopct = '%.1f%%', pctdistance = 1.15, startangle = 90)\n",
    "plt.title('Répartition de l\\'utilisation de la disponibilité intérieure des céréales')\n",
    "plt.legend(utilisation_disponibilite_cereales.index, loc = 7, bbox_to_anchor=(1.54, 0.5))\n",
    "plt.show()"
   ]
  },
  {
   "attachments": {},
   "cell_type": "markdown",
   "metadata": {},
   "source": [
    "<a id=\"17\"></a> \n",
    "### Pays avec la plus forte proportion de personnes sous-alimentées"
   ]
  },
  {
   "attachments": {},
   "cell_type": "markdown",
   "metadata": {},
   "source": [
    "Nous avons précédemment créé le *DataFrame* `population_sous_nutrition`. Il contient les informations nécessaires pour calculer le taux de sous nutrition par pays qui nous permettra ensuite de trier ces derniers."
   ]
  },
  {
   "cell_type": "code",
   "execution_count": 58,
   "metadata": {},
   "outputs": [
    {
     "data": {
      "text/html": [
       "<style type=\"text/css\">\n",
       "</style>\n",
       "<table id=\"T_a1e3a\">\n",
       "  <thead>\n",
       "    <tr>\n",
       "      <th class=\"blank level0\" >&nbsp;</th>\n",
       "      <th id=\"T_a1e3a_level0_col0\" class=\"col_heading level0 col0\" >zone</th>\n",
       "      <th id=\"T_a1e3a_level0_col1\" class=\"col_heading level0 col1\" >valeur_population</th>\n",
       "      <th id=\"T_a1e3a_level0_col2\" class=\"col_heading level0 col2\" >valeur_sous_nutrition</th>\n",
       "      <th id=\"T_a1e3a_level0_col3\" class=\"col_heading level0 col3\" >taux_sous_nutrition</th>\n",
       "    </tr>\n",
       "  </thead>\n",
       "  <tbody>\n",
       "    <tr>\n",
       "      <th id=\"T_a1e3a_level0_row0\" class=\"row_heading level0 row0\" >87</th>\n",
       "      <td id=\"T_a1e3a_row0_col0\" class=\"data row0 col0\" >Haïti</td>\n",
       "      <td id=\"T_a1e3a_row0_col1\" class=\"data row0 col1\" >10.982366</td>\n",
       "      <td id=\"T_a1e3a_row0_col2\" class=\"data row0 col2\" >5.300000</td>\n",
       "      <td id=\"T_a1e3a_row0_col3\" class=\"data row0 col3\" >48.3%</td>\n",
       "    </tr>\n",
       "    <tr>\n",
       "      <th id=\"T_a1e3a_level0_row1\" class=\"row_heading level0 row1\" >181</th>\n",
       "      <td id=\"T_a1e3a_row1_col0\" class=\"data row1 col0\" >République populaire démocratique de Corée</td>\n",
       "      <td id=\"T_a1e3a_row1_col1\" class=\"data row1 col1\" >25.429825</td>\n",
       "      <td id=\"T_a1e3a_row1_col2\" class=\"data row1 col2\" >12.000000</td>\n",
       "      <td id=\"T_a1e3a_row1_col3\" class=\"data row1 col3\" >47.2%</td>\n",
       "    </tr>\n",
       "    <tr>\n",
       "      <th id=\"T_a1e3a_level0_row2\" class=\"row_heading level0 row2\" >128</th>\n",
       "      <td id=\"T_a1e3a_row2_col0\" class=\"data row2 col0\" >Madagascar</td>\n",
       "      <td id=\"T_a1e3a_row2_col1\" class=\"data row2 col1\" >25.570512</td>\n",
       "      <td id=\"T_a1e3a_row2_col2\" class=\"data row2 col2\" >10.500000</td>\n",
       "      <td id=\"T_a1e3a_row2_col3\" class=\"data row2 col3\" >41.1%</td>\n",
       "    </tr>\n",
       "    <tr>\n",
       "      <th id=\"T_a1e3a_level0_row3\" class=\"row_heading level0 row3\" >122</th>\n",
       "      <td id=\"T_a1e3a_row3_col0\" class=\"data row3 col0\" >Libéria</td>\n",
       "      <td id=\"T_a1e3a_row3_col1\" class=\"data row3 col1\" >4.702226</td>\n",
       "      <td id=\"T_a1e3a_row3_col2\" class=\"data row3 col2\" >1.800000</td>\n",
       "      <td id=\"T_a1e3a_row3_col3\" class=\"data row3 col3\" >38.3%</td>\n",
       "    </tr>\n",
       "    <tr>\n",
       "      <th id=\"T_a1e3a_level0_row4\" class=\"row_heading level0 row4\" >119</th>\n",
       "      <td id=\"T_a1e3a_row4_col0\" class=\"data row4 col0\" >Lesotho</td>\n",
       "      <td id=\"T_a1e3a_row4_col1\" class=\"data row4 col1\" >2.091534</td>\n",
       "      <td id=\"T_a1e3a_row4_col2\" class=\"data row4 col2\" >0.800000</td>\n",
       "      <td id=\"T_a1e3a_row4_col3\" class=\"data row4 col3\" >38.2%</td>\n",
       "    </tr>\n",
       "    <tr>\n",
       "      <th id=\"T_a1e3a_level0_row5\" class=\"row_heading level0 row5\" >216</th>\n",
       "      <td id=\"T_a1e3a_row5_col0\" class=\"data row5 col0\" >Tchad</td>\n",
       "      <td id=\"T_a1e3a_row5_col1\" class=\"data row5 col1\" >15.016753</td>\n",
       "      <td id=\"T_a1e3a_row5_col2\" class=\"data row5 col2\" >5.700000</td>\n",
       "      <td id=\"T_a1e3a_row5_col3\" class=\"data row5 col3\" >38.0%</td>\n",
       "    </tr>\n",
       "    <tr>\n",
       "      <th id=\"T_a1e3a_level0_row6\" class=\"row_heading level0 row6\" >186</th>\n",
       "      <td id=\"T_a1e3a_row6_col0\" class=\"data row6 col0\" >Rwanda</td>\n",
       "      <td id=\"T_a1e3a_row6_col1\" class=\"data row6 col1\" >11.980961</td>\n",
       "      <td id=\"T_a1e3a_row6_col2\" class=\"data row6 col2\" >4.200000</td>\n",
       "      <td id=\"T_a1e3a_row6_col3\" class=\"data row6 col3\" >35.1%</td>\n",
       "    </tr>\n",
       "    <tr>\n",
       "      <th id=\"T_a1e3a_level0_row7\" class=\"row_heading level0 row7\" >145</th>\n",
       "      <td id=\"T_a1e3a_row7_col0\" class=\"data row7 col0\" >Mozambique</td>\n",
       "      <td id=\"T_a1e3a_row7_col1\" class=\"data row7 col1\" >28.649018</td>\n",
       "      <td id=\"T_a1e3a_row7_col2\" class=\"data row7 col2\" >9.400000</td>\n",
       "      <td id=\"T_a1e3a_row7_col3\" class=\"data row7 col3\" >32.8%</td>\n",
       "    </tr>\n",
       "    <tr>\n",
       "      <th id=\"T_a1e3a_level0_row8\" class=\"row_heading level0 row8\" >219</th>\n",
       "      <td id=\"T_a1e3a_row8_col0\" class=\"data row8 col0\" >Timor-Leste</td>\n",
       "      <td id=\"T_a1e3a_row8_col1\" class=\"data row8 col1\" >1.243258</td>\n",
       "      <td id=\"T_a1e3a_row8_col2\" class=\"data row8 col2\" >0.400000</td>\n",
       "      <td id=\"T_a1e3a_row8_col3\" class=\"data row8 col3\" >32.2%</td>\n",
       "    </tr>\n",
       "    <tr>\n",
       "      <th id=\"T_a1e3a_level0_row9\" class=\"row_heading level0 row9\" >0</th>\n",
       "      <td id=\"T_a1e3a_row9_col0\" class=\"data row9 col0\" >Afghanistan</td>\n",
       "      <td id=\"T_a1e3a_row9_col1\" class=\"data row9 col1\" >36.296113</td>\n",
       "      <td id=\"T_a1e3a_row9_col2\" class=\"data row9 col2\" >10.500000</td>\n",
       "      <td id=\"T_a1e3a_row9_col3\" class=\"data row9 col3\" >28.9%</td>\n",
       "    </tr>\n",
       "  </tbody>\n",
       "</table>\n"
      ],
      "text/plain": [
       "<pandas.io.formats.style.Styler at 0x2233e906ff0>"
      ]
     },
     "execution_count": 58,
     "metadata": {},
     "output_type": "execute_result"
    }
   ],
   "source": [
    "# Calcul 'taux_sous_nutrition' et tri par pays\n",
    "population_sous_nutrition['taux_sous_nutrition'] = (\n",
    "    population_sous_nutrition['valeur_sous_nutrition'] / population_sous_nutrition['valeur_population']\n",
    ")\n",
    "population_sous_nutrition.nlargest(10, 'taux_sous_nutrition').style.format({'taux_sous_nutrition':'{:.1%}'})"
   ]
  },
  {
   "attachments": {},
   "cell_type": "markdown",
   "metadata": {},
   "source": [
    "<a id=\"18\"></a> \n",
    "### Pays ayant le plus bénéficié d'aides depuis 2013"
   ]
  },
  {
   "attachments": {},
   "cell_type": "markdown",
   "metadata": {},
   "source": [
    "Grâce au jeu de données de l'aide alimentaire nous pouvons regrouper les aides par pays et calculer le montant total dont ils ont bénéficié depuis 2013."
   ]
  },
  {
   "cell_type": "code",
   "execution_count": 59,
   "metadata": {},
   "outputs": [
    {
     "data": {
      "text/plain": [
       "zone\n",
       "République arabe syrienne           1858943\n",
       "Éthiopie                            1381294\n",
       "Yémen                               1206484\n",
       "Soudan du Sud                        695248\n",
       "Soudan                               669784\n",
       "Kenya                                552836\n",
       "Bangladesh                           348188\n",
       "Somalie                              292678\n",
       "République démocratique du Congo     288502\n",
       "Niger                                276344\n",
       "Name: valeur, dtype: int64"
      ]
     },
     "execution_count": 59,
     "metadata": {},
     "output_type": "execute_result"
    }
   ],
   "source": [
    "# Calcul aides et tri descendant par pays\n",
    "aide.groupby('zone')['valeur'].sum().nlargest(10)"
   ]
  },
  {
   "attachments": {},
   "cell_type": "markdown",
   "metadata": {},
   "source": [
    "Pour aller plus loin, essayons de voir de quels types de produits les pays ont le plus bénéficié."
   ]
  },
  {
   "cell_type": "code",
   "execution_count": 60,
   "metadata": {},
   "outputs": [
    {
     "data": {
      "text/plain": [
       "produit\n",
       "Céréales                    4256884\n",
       "Blé et Farin                1781515\n",
       "Non-céréales                1261513\n",
       "Céréales Secondaires        1166565\n",
       "Riz, total                   742418\n",
       "Légumineuses Sèches,Tot.     737398\n",
       "Mélanges et préparations     425839\n",
       "Huiles végétales             344973\n",
       "BulgurFarEnt                 140547\n",
       "Sucre, total                 101014\n",
       "Name: valeur, dtype: int64"
      ]
     },
     "execution_count": 60,
     "metadata": {},
     "output_type": "execute_result"
    }
   ],
   "source": [
    "# Calcul aides et tri descendant par produit\n",
    "aide.groupby('produit')['valeur'].sum().nlargest(10)"
   ]
  },
  {
   "attachments": {},
   "cell_type": "markdown",
   "metadata": {},
   "source": [
    "Les céréales semblent avoir une place importante. A partir des résultats du top 10, voyons quelle part ils représentent exactement."
   ]
  },
  {
   "cell_type": "code",
   "execution_count": 61,
   "metadata": {},
   "outputs": [
    {
     "name": "stdout",
     "output_type": "stream",
     "text": [
      "72.0%\n"
     ]
    }
   ],
   "source": [
    "# Calcul proportion céréales dans aides\n",
    "liste_cereales_aides = ['Céréales', 'Blé et Farin', 'Céréales Secondaires', 'Riz, total']\n",
    "somme_cereales_aides = aide.loc[aide['produit'].isin(liste_cereales_aides), 'valeur'].sum()\n",
    "part_cereales_aides = somme_cereales_aides / aide['valeur'].sum()\n",
    "print('{:.1%}'.format(part_cereales_aides))"
   ]
  },
  {
   "attachments": {},
   "cell_type": "markdown",
   "metadata": {},
   "source": [
    "<a id=\"19\"></a> \n",
    "### Pays avec le plus et le moins de disponibilité par habitant"
   ]
  },
  {
   "attachments": {},
   "cell_type": "markdown",
   "metadata": {},
   "source": [
    "A partir du *DataFrame* `disponibilite_zone`, nous allons afficher les 10 pays avec la plus forte disponibilité puis ceux avec la moins forte. Nous faisons le choix de faire le tri sur les apports caloriques."
   ]
  },
  {
   "cell_type": "code",
   "execution_count": 62,
   "metadata": {},
   "outputs": [
    {
     "data": {
      "text/html": [
       "<div>\n",
       "<style scoped>\n",
       "    .dataframe tbody tr th:only-of-type {\n",
       "        vertical-align: middle;\n",
       "    }\n",
       "\n",
       "    .dataframe tbody tr th {\n",
       "        vertical-align: top;\n",
       "    }\n",
       "\n",
       "    .dataframe thead th {\n",
       "        text-align: right;\n",
       "    }\n",
       "</style>\n",
       "<table border=\"1\" class=\"dataframe\">\n",
       "  <thead>\n",
       "    <tr style=\"text-align: right;\">\n",
       "      <th></th>\n",
       "      <th>zone</th>\n",
       "      <th>disponibilite_kcal_p_j</th>\n",
       "    </tr>\n",
       "  </thead>\n",
       "  <tbody>\n",
       "    <tr>\n",
       "      <th>74</th>\n",
       "      <td>Irlande</td>\n",
       "      <td>3834.0</td>\n",
       "    </tr>\n",
       "    <tr>\n",
       "      <th>182</th>\n",
       "      <td>États-Unis d'Amérique</td>\n",
       "      <td>3774.0</td>\n",
       "    </tr>\n",
       "    <tr>\n",
       "      <th>17</th>\n",
       "      <td>Belgique</td>\n",
       "      <td>3771.0</td>\n",
       "    </tr>\n",
       "    <tr>\n",
       "      <th>170</th>\n",
       "      <td>Turquie</td>\n",
       "      <td>3734.0</td>\n",
       "    </tr>\n",
       "    <tr>\n",
       "      <th>11</th>\n",
       "      <td>Autriche</td>\n",
       "      <td>3685.0</td>\n",
       "    </tr>\n",
       "    <tr>\n",
       "      <th>75</th>\n",
       "      <td>Islande</td>\n",
       "      <td>3651.0</td>\n",
       "    </tr>\n",
       "    <tr>\n",
       "      <th>76</th>\n",
       "      <td>Israël</td>\n",
       "      <td>3562.0</td>\n",
       "    </tr>\n",
       "    <tr>\n",
       "      <th>132</th>\n",
       "      <td>Roumanie</td>\n",
       "      <td>3552.0</td>\n",
       "    </tr>\n",
       "    <tr>\n",
       "      <th>4</th>\n",
       "      <td>Allemagne</td>\n",
       "      <td>3545.0</td>\n",
       "    </tr>\n",
       "    <tr>\n",
       "      <th>55</th>\n",
       "      <td>France</td>\n",
       "      <td>3509.0</td>\n",
       "    </tr>\n",
       "  </tbody>\n",
       "</table>\n",
       "</div>"
      ],
      "text/plain": [
       "                      zone  disponibilite_kcal_p_j\n",
       "74                 Irlande                  3834.0\n",
       "182  États-Unis d'Amérique                  3774.0\n",
       "17                Belgique                  3771.0\n",
       "170                Turquie                  3734.0\n",
       "11                Autriche                  3685.0\n",
       "75                 Islande                  3651.0\n",
       "76                  Israël                  3562.0\n",
       "132               Roumanie                  3552.0\n",
       "4                Allemagne                  3545.0\n",
       "55                  France                  3509.0"
      ]
     },
     "execution_count": 62,
     "metadata": {},
     "output_type": "execute_result"
    }
   ],
   "source": [
    "disponibilite_zone[['zone','disponibilite_kcal_p_j']].nlargest(10, 'disponibilite_kcal_p_j')"
   ]
  },
  {
   "cell_type": "code",
   "execution_count": 63,
   "metadata": {},
   "outputs": [
    {
     "data": {
      "text/html": [
       "<div>\n",
       "<style scoped>\n",
       "    .dataframe tbody tr th:only-of-type {\n",
       "        vertical-align: middle;\n",
       "    }\n",
       "\n",
       "    .dataframe tbody tr th {\n",
       "        vertical-align: top;\n",
       "    }\n",
       "\n",
       "    .dataframe thead th {\n",
       "        text-align: right;\n",
       "    }\n",
       "</style>\n",
       "<table border=\"1\" class=\"dataframe\">\n",
       "  <thead>\n",
       "    <tr style=\"text-align: right;\">\n",
       "      <th></th>\n",
       "      <th>zone</th>\n",
       "      <th>disponibilite_kcal_p_j</th>\n",
       "    </tr>\n",
       "  </thead>\n",
       "  <tbody>\n",
       "    <tr>\n",
       "      <th>26</th>\n",
       "      <td>Burundi</td>\n",
       "      <td>1740.0</td>\n",
       "    </tr>\n",
       "    <tr>\n",
       "      <th>136</th>\n",
       "      <td>République centrafricaine</td>\n",
       "      <td>1903.0</td>\n",
       "    </tr>\n",
       "    <tr>\n",
       "      <th>94</th>\n",
       "      <td>Madagascar</td>\n",
       "      <td>1915.0</td>\n",
       "    </tr>\n",
       "    <tr>\n",
       "      <th>107</th>\n",
       "      <td>Mozambique</td>\n",
       "      <td>1928.0</td>\n",
       "    </tr>\n",
       "    <tr>\n",
       "      <th>176</th>\n",
       "      <td>Yémen</td>\n",
       "      <td>1991.0</td>\n",
       "    </tr>\n",
       "    <tr>\n",
       "      <th>119</th>\n",
       "      <td>Ouganda</td>\n",
       "      <td>2030.0</td>\n",
       "    </tr>\n",
       "    <tr>\n",
       "      <th>178</th>\n",
       "      <td>Zimbabwe</td>\n",
       "      <td>2045.0</td>\n",
       "    </tr>\n",
       "    <tr>\n",
       "      <th>142</th>\n",
       "      <td>République populaire démocratique de Corée</td>\n",
       "      <td>2090.0</td>\n",
       "    </tr>\n",
       "    <tr>\n",
       "      <th>82</th>\n",
       "      <td>Kenya</td>\n",
       "      <td>2144.0</td>\n",
       "    </tr>\n",
       "    <tr>\n",
       "      <th>67</th>\n",
       "      <td>Haïti</td>\n",
       "      <td>2145.0</td>\n",
       "    </tr>\n",
       "  </tbody>\n",
       "</table>\n",
       "</div>"
      ],
      "text/plain": [
       "                                           zone  disponibilite_kcal_p_j\n",
       "26                                      Burundi                  1740.0\n",
       "136                   République centrafricaine                  1903.0\n",
       "94                                   Madagascar                  1915.0\n",
       "107                                  Mozambique                  1928.0\n",
       "176                                       Yémen                  1991.0\n",
       "119                                     Ouganda                  2030.0\n",
       "178                                    Zimbabwe                  2045.0\n",
       "142  République populaire démocratique de Corée                  2090.0\n",
       "82                                        Kenya                  2144.0\n",
       "67                                        Haïti                  2145.0"
      ]
     },
     "execution_count": 63,
     "metadata": {},
     "output_type": "execute_result"
    }
   ],
   "source": [
    "(disponibilite_zone.loc[disponibilite_zone['disponibilite_kcal_p_j'] != 0, ['zone','disponibilite_kcal_p_j']]\n",
    ").nsmallest(10, 'disponibilite_kcal_p_j')"
   ]
  },
  {
   "attachments": {},
   "cell_type": "markdown",
   "metadata": {},
   "source": [
    "En ce qui concerne les apports calorifiques, on constate que certain pays ont une disponibilité largement supérieure aux apports moyens nécessaires (2 250 kcal/p/j). Néanmoins,  le nombre de pays avec une disponibilités inférieure n'est pas si élevé que cela et la valeur minimale reste assez proche des apports nécessaires."
   ]
  },
  {
   "attachments": {},
   "cell_type": "markdown",
   "metadata": {},
   "source": [
    "<a id=\"20\"></a> \n",
    "## Conclusion"
   ]
  },
  {
   "attachments": {},
   "cell_type": "markdown",
   "metadata": {},
   "source": [
    "Nos calculs nous ont permis de constater, qu'en théorie, la disponibilité alimentaire permettrait de couvrir les besoins de l'ensemble de la population. Dans le détail, les produits d'origine végétale seraient suffisants, contrairement à ceux d'origine animale.<br>\n",
    "A l'échelle des pays, là aussi la disponibilité théorique est suffisante pour une grande majorité d'entre eux, même si certains disposent de plus que nécessaire quand d'autres atteignent seulement 80 % des besoins moyens.<br>\n",
    "Néanmoins, cela ne reflète pas la réalité qui montre que **près de 13 % de la population souffre de sous-nutrition**.<br><br>\n",
    "Les chiffres soulèvent encore plus d'interrogations lorsque l'on étudie l'utilisation qui est faite de la disponibilité des produits.<br>\n",
    "Les exportations représentent parfois pratiquement la totalité de la production de pays pourtant en sous-nutrition, comme dans notre exemple avec la Thaïlande.<br>\n",
    "L'étude sur les céréales montrent que **38 % sont perdus ou servent à nourrir les animaux** alors que **72 % des aides fournies** aux pays en sous-nutrition le sont avec des céréales.<br><br>\n",
    "On pourrait en conclure que l'élevage et la consommation de viande, qui profite seulement à une petite part de la population mondiale, nécessite une quantité de produits végétaux et surtout de céréales qui serait suffisante pour nourrir la plupart de la population en sous-nutrition."
   ]
  }
 ],
 "metadata": {
  "kernelspec": {
   "display_name": "Python 3",
   "language": "python",
   "name": "python3"
  },
  "language_info": {
   "codemirror_mode": {
    "name": "ipython",
    "version": 3
   },
   "file_extension": ".py",
   "mimetype": "text/x-python",
   "name": "python",
   "nbconvert_exporter": "python",
   "pygments_lexer": "ipython3",
   "version": "3.12.0"
  },
  "orig_nbformat": 4,
  "vscode": {
   "interpreter": {
    "hash": "306c8db229f0a89c06d03772a1eff5479204b8baa09cdbdfc80c0ee3ff96995d"
   }
  }
 },
 "nbformat": 4,
 "nbformat_minor": 2
}
